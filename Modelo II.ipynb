{
  "cells": [
    {
      "attachments": {},
      "cell_type": "markdown",
      "metadata": {
        "id": "bs2mKgZO_kIo"
      },
      "source": [
        "## GRUPO 2"
      ]
    },
    {
      "cell_type": "code",
      "execution_count": 1,
      "metadata": {
        "id": "iNd0TtFVBI2p"
      },
      "outputs": [],
      "source": [
        "#PCA\n",
        "from sklearn.decomposition import PCA\n",
        "# Tensorflow\n",
        "import tensorflow as tf\n",
        "from tensorflow import keras\n",
        "\n",
        "#Genericas\n",
        "import numpy as np\n",
        "import pandas as pd\n",
        "import matplotlib.pyplot as plt\n",
        "%matplotlib inline\n",
        "import seaborn as sns\n",
        "from sklearn.model_selection import train_test_split\n",
        "from mlxtend.preprocessing import standardize\n",
        "import math\n",
        "import cv2"
      ]
    },
    {
      "attachments": {},
      "cell_type": "markdown",
      "metadata": {
        "id": "EhmqjMGxEr_-"
      },
      "source": [
        "## Limpieza del dataset"
      ]
    },
    {
      "attachments": {},
      "cell_type": "markdown",
      "metadata": {},
      "source": [
        "Carga de dataset de imagenes y dataset de nombres"
      ]
    },
    {
      "cell_type": "code",
      "execution_count": 2,
      "metadata": {},
      "outputs": [
        {
          "name": "stdout",
          "output_type": "stream",
          "text": [
            "(341, 150, 150)\n",
            "(341,)\n"
          ]
        }
      ],
      "source": [
        "X = np.load('AUSTRAL_MCD_FACE_v2.npy')\n",
        "y = np.load('AUSTRAL_MCD_FACE_TARGET_v2.npy')\n",
        "print(X.shape)\n",
        "print(y.shape)"
      ]
    },
    {
      "cell_type": "code",
      "execution_count": 3,
      "metadata": {
        "id": "c8AjlLbCFPMY"
      },
      "outputs": [
        {
          "name": "stdout",
          "output_type": "stream",
          "text": [
            "(2387, 150, 150)\n",
            "(2387,)\n"
          ]
        }
      ],
      "source": [
        "def data_augmentation(X, y):\n",
        "    X_aug = []\n",
        "    y_aug = []\n",
        "    for i in range(len(X)):\n",
        "        X_aug.append(X[i])\n",
        "        X_aug.append(cv2.flip(X[i], 1))\n",
        "        X_aug.append(cv2.flip(X[i], 0))\n",
        "        X_aug.append(cv2.flip(X[i], -1))\n",
        "        X_aug.append(cv2.rotate(X[i], cv2.ROTATE_90_CLOCKWISE))\n",
        "        X_aug.append(cv2.rotate(X[i], cv2.ROTATE_90_COUNTERCLOCKWISE))\n",
        "        X_aug.append(cv2.rotate(X[i], cv2.ROTATE_180))\n",
        "        for j in range(7):\n",
        "            y_aug.append(y[i])\n",
        "    return np.array(X_aug), np.array(y_aug) \n",
        "\n",
        "X,y=data_augmentation(X, y)\n",
        "print(X.shape)\n",
        "print(y.shape)"
      ]
    },
    {
      "attachments": {},
      "cell_type": "markdown",
      "metadata": {
        "id": "HOzr37glFQOW"
      },
      "source": [
        "Persona|Aparece|Observaciones\n",
        "--- | ---|---\n",
        "Andres | 22 |---\n",
        "Carla | 21 |Borrar\n",
        "Claudia | 12 |---\n",
        "Edu | 27 |---\n",
        "Elemir | 12 |---\n",
        "Fernanda | 20 |---\n",
        "Geronimo | 11 |---\n",
        "Hernan | 18 |---\n",
        "Jiang | 19 |---\n",
        "Joaquin | 10 |---\n",
        "Josefina | 12 |---\n",
        "Julieta | 12 |---\n",
        "Lujan | 10 |---\n",
        "Mai | 15 |---\n",
        "Marcelo G | 10 |---\n",
        "Marcelo T | 16 |---\n",
        "Maribel | 10 |---\n",
        "Marisa | 10 |---\n",
        "Nestor | 10 |---\n",
        "Oscar | 10 |---\n",
        "Ramon | 10 |---\n",
        "Rodrigo E | 9 |---\n",
        "Rodrigo E.jpg | 1 |Borrar\n",
        "Rodrigo G | 11 |Borrar\n",
        "Sebastian | 14 |---\n",
        "Silvia | 9 |La que menos aparece"
      ]
    },
    {
      "attachments": {},
      "cell_type": "markdown",
      "metadata": {},
      "source": [
        "Se eliminan alumnos que ya no cursan la maestria"
      ]
    },
    {
      "cell_type": "code",
      "execution_count": 4,
      "metadata": {
        "id": "5wpzWvTW_kIu"
      },
      "outputs": [
        {
          "data": {
            "text/plain": [
              "array(['Marcelo T', 'Marcelo T', 'Marcelo T', ..., 'Marcelo T',\n",
              "       'Marcelo T', 'Marcelo T'], dtype='<U13')"
            ]
          },
          "execution_count": 4,
          "metadata": {},
          "output_type": "execute_result"
        }
      ],
      "source": [
        "X = np.delete(X, np.where(y == 'Rodrigo E.jpg'), 0)\n",
        "y = np.delete(y, np.where(y == 'Rodrigo E.jpg'), 0)\n",
        "\n",
        "X = np.delete(X, np.where(y == 'Rodrigo G'), 0)\n",
        "y = np.delete(y, np.where(y == 'Rodrigo G'), 0)\n",
        "\n",
        "X = np.delete(X, np.where(y == 'Carla'), 0)\n",
        "y = np.delete(y, np.where(y == 'Carla'), 0)\n",
        "\n",
        "nombres_y=y\n",
        "nombres_y"
      ]
    },
    {
      "attachments": {},
      "cell_type": "markdown",
      "metadata": {},
      "source": [
        "Obtener los nombres únicos en el arreglo y número de registros a recopilar por cada nombre\n"
      ]
    },
    {
      "cell_type": "code",
      "execution_count": 5,
      "metadata": {
        "id": "-crk_B7mIFNW"
      },
      "outputs": [],
      "source": [
        "nombres_unicos = np.unique(y)  \n",
        "\n",
        "registros_por_nombre = 100\n",
        "\n",
        "resultados = []\n",
        "resultados2 = []\n",
        "\n",
        "for nombre in nombres_unicos:\n",
        "    indices = np.where(y == nombre)[0][:registros_por_nombre]\n",
        "    registros = y[indices]\n",
        "    registros2 = X[indices]\n",
        "    resultados.extend(registros)\n",
        "    resultados2.extend(registros2)\n",
        "\n",
        "resultados = np.array(resultados)\n",
        "y = resultados\n",
        "X = np.array(resultados2)"
      ]
    },
    {
      "cell_type": "code",
      "execution_count": 318,
      "metadata": {},
      "outputs": [
        {
          "name": "stdout",
          "output_type": "stream",
          "text": [
            "(1897,)\n",
            "(1897, 150, 150)\n"
          ]
        }
      ],
      "source": [
        "print(y.shape)\n",
        "print(X.shape)"
      ]
    },
    {
      "attachments": {},
      "cell_type": "markdown",
      "metadata": {},
      "source": []
    },
    {
      "cell_type": "code",
      "execution_count": 6,
      "metadata": {
        "id": "EahmmnnlnRLU"
      },
      "outputs": [],
      "source": [
        "# Lista de nombres\n",
        "nombres = np.unique(y)\n",
        "\n",
        "# Crear un diccionario para mapear cada nombre a un valor numérico\n",
        "mapeo_nombres = {nombre: i for i, nombre in enumerate(np.unique(nombres))}\n",
        "\n",
        "# Crear una matriz de valores numéricos codificados\n",
        "nombres_codificados = np.array([mapeo_nombres[nombre] for nombre in nombres])\n",
        "\n",
        "y = np.searchsorted(nombres, y)"
      ]
    },
    {
      "cell_type": "code",
      "execution_count": 7,
      "metadata": {},
      "outputs": [
        {
          "data": {
            "text/plain": [
              "array([ 0,  1,  2,  3,  4,  5,  6,  7,  8,  9, 10, 11, 12, 13, 14, 15, 16,\n",
              "       17, 18, 19, 20, 21, 22], dtype=int64)"
            ]
          },
          "execution_count": 7,
          "metadata": {},
          "output_type": "execute_result"
        }
      ],
      "source": [
        "# Lista de nombres\n",
        "nombres = np.unique(y)\n",
        "nombres"
      ]
    },
    {
      "cell_type": "code",
      "execution_count": 8,
      "metadata": {},
      "outputs": [
        {
          "data": {
            "text/plain": [
              "{0: 0,\n",
              " 1: 1,\n",
              " 2: 2,\n",
              " 3: 3,\n",
              " 4: 4,\n",
              " 5: 5,\n",
              " 6: 6,\n",
              " 7: 7,\n",
              " 8: 8,\n",
              " 9: 9,\n",
              " 10: 10,\n",
              " 11: 11,\n",
              " 12: 12,\n",
              " 13: 13,\n",
              " 14: 14,\n",
              " 15: 15,\n",
              " 16: 16,\n",
              " 17: 17,\n",
              " 18: 18,\n",
              " 19: 19,\n",
              " 20: 20,\n",
              " 21: 21,\n",
              " 22: 22}"
            ]
          },
          "execution_count": 8,
          "metadata": {},
          "output_type": "execute_result"
        }
      ],
      "source": [
        "# Crear un diccionario para mapear cada nombre a un valor numérico\n",
        "mapeo_nombres = {nombre: i for i, nombre in enumerate(np.unique(nombres))}\n",
        "mapeo_nombres"
      ]
    },
    {
      "cell_type": "code",
      "execution_count": 9,
      "metadata": {},
      "outputs": [
        {
          "data": {
            "text/plain": [
              "array([ 0,  1,  2,  3,  4,  5,  6,  7,  8,  9, 10, 11, 12, 13, 14, 15, 16,\n",
              "       17, 18, 19, 20, 21, 22])"
            ]
          },
          "execution_count": 9,
          "metadata": {},
          "output_type": "execute_result"
        }
      ],
      "source": [
        "# Crear una matriz de valores numéricos codificados\n",
        "nombres_codificados = np.array([mapeo_nombres[nombre] for nombre in nombres])\n",
        "nombres_codificados"
      ]
    },
    {
      "cell_type": "code",
      "execution_count": 10,
      "metadata": {},
      "outputs": [
        {
          "data": {
            "text/plain": [
              "array([ 0,  0,  0, ..., 22, 22, 22], dtype=int64)"
            ]
          },
          "execution_count": 10,
          "metadata": {},
          "output_type": "execute_result"
        }
      ],
      "source": [
        "y = np.searchsorted(nombres, y)\n",
        "y"
      ]
    },
    {
      "attachments": {},
      "cell_type": "markdown",
      "metadata": {},
      "source": [
        "Armamos set de entrenamiento y test"
      ]
    },
    {
      "cell_type": "code",
      "execution_count": 11,
      "metadata": {
        "id": "Us5QJS7pob7N"
      },
      "outputs": [],
      "source": [
        "percentage = 0.3\n",
        "X_train, X_test, Y_train, Y_test = train_test_split(X, y, stratify=y, test_size=percentage, random_state=42)\n",
        "targets = y.reshape(-1, 1)"
      ]
    },
    {
      "cell_type": "code",
      "execution_count": 12,
      "metadata": {},
      "outputs": [
        {
          "data": {
            "text/plain": [
              "((1327, 150, 150), (1327,))"
            ]
          },
          "execution_count": 12,
          "metadata": {},
          "output_type": "execute_result"
        }
      ],
      "source": [
        "X_train.shape, Y_train.shape"
      ]
    },
    {
      "cell_type": "code",
      "execution_count": 13,
      "metadata": {},
      "outputs": [
        {
          "data": {
            "text/plain": [
              "((570, 150, 150), (570,))"
            ]
          },
          "execution_count": 13,
          "metadata": {},
          "output_type": "execute_result"
        }
      ],
      "source": [
        "X_test.shape, Y_test.shape"
      ]
    },
    {
      "attachments": {},
      "cell_type": "markdown",
      "metadata": {},
      "source": [
        "Imprime los valores únicos y las cantidades de repeticiones del set de entrenamiento"
      ]
    },
    {
      "cell_type": "code",
      "execution_count": 14,
      "metadata": {
        "colab": {
          "base_uri": "https://localhost:8080/"
        },
        "id": "EdoNi7wzJ4Xh",
        "outputId": "ae54bdd3-ea0e-42ef-e21b-bf6fd9dfd4a9"
      },
      "outputs": [
        {
          "name": "stdout",
          "output_type": "stream",
          "text": [
            "Persona|Aparece|\n",
            "--- | ---|---\n",
            "0 | 70 |---\n",
            "1 | 59 |---\n",
            "2 | 70 |---\n",
            "3 | 59 |---\n",
            "4 | 70 |---\n",
            "5 | 54 |---\n",
            "6 | 70 |---\n",
            "7 | 70 |---\n",
            "8 | 49 |---\n",
            "9 | 59 |---\n",
            "10 | 58 |---\n",
            "11 | 49 |---\n",
            "12 | 70 |---\n",
            "13 | 49 |---\n",
            "14 | 70 |---\n",
            "15 | 49 |---\n",
            "16 | 49 |---\n",
            "17 | 49 |---\n",
            "18 | 49 |---\n",
            "19 | 49 |---\n",
            "20 | 44 |---\n",
            "21 | 68 |---\n",
            "22 | 44 |---\n"
          ]
        }
      ],
      "source": [
        "unique, counts = np.unique(Y_train, return_counts=True)\n",
        "print(\"Persona|Aparece|\")\n",
        "print(\"--- | ---|---\") \n",
        "for i in range(len(unique)):\n",
        "    print(\"{} | {} |---\".format(unique[i], counts[i]))"
      ]
    },
    {
      "attachments": {},
      "cell_type": "markdown",
      "metadata": {},
      "source": [
        "Imprime los valores únicos y las cantidades de repeticiones del set de test"
      ]
    },
    {
      "cell_type": "code",
      "execution_count": 15,
      "metadata": {
        "colab": {
          "base_uri": "https://localhost:8080/"
        },
        "id": "dwI7tt_TJ3o5",
        "outputId": "6a499baf-9fec-40dc-eaf3-7c30005f15e9"
      },
      "outputs": [
        {
          "name": "stdout",
          "output_type": "stream",
          "text": [
            "Persona|Aparece|\n",
            "--- | ---|---\n",
            "0 | 30 |---\n",
            "1 | 25 |---\n",
            "2 | 30 |---\n",
            "3 | 25 |---\n",
            "4 | 30 |---\n",
            "5 | 23 |---\n",
            "6 | 30 |---\n",
            "7 | 30 |---\n",
            "8 | 21 |---\n",
            "9 | 25 |---\n",
            "10 | 26 |---\n",
            "11 | 21 |---\n",
            "12 | 30 |---\n",
            "13 | 21 |---\n",
            "14 | 30 |---\n",
            "15 | 21 |---\n",
            "16 | 21 |---\n",
            "17 | 21 |---\n",
            "18 | 21 |---\n",
            "19 | 21 |---\n",
            "20 | 19 |---\n",
            "21 | 30 |---\n",
            "22 | 19 |---\n"
          ]
        }
      ],
      "source": [
        "unique, counts = np.unique(Y_test, return_counts=True)\n",
        "print(\"Persona|Aparece|\")\n",
        "print(\"--- | ---|---\") \n",
        "for i in range(len(unique)):\n",
        "    print(\"{} | {} |---\".format(unique[i], counts[i]))"
      ]
    },
    {
      "attachments": {},
      "cell_type": "markdown",
      "metadata": {
        "id": "n5H-8vWNA-bK"
      },
      "source": [
        "# 1.PCA"
      ]
    },
    {
      "attachments": {},
      "cell_type": "markdown",
      "metadata": {
        "id": "mzXavb3TL1wd"
      },
      "source": [
        "Vemos las componentes del conjunto en test y train."
      ]
    },
    {
      "cell_type": "code",
      "execution_count": 16,
      "metadata": {
        "colab": {
          "base_uri": "https://localhost:8080/"
        },
        "id": "gpMMHMssDlWG",
        "outputId": "060d3ab5-1b0b-4eb2-a0e2-7b06119e2892"
      },
      "outputs": [
        {
          "name": "stdout",
          "output_type": "stream",
          "text": [
            "X_train shape (1327, 150, 150)\n",
            "Y_train shape (1327,)\n",
            "X_test shape (570, 150, 150)\n",
            "Y_test shape (570,)\n",
            "Numero de target 23\n",
            "\n",
            "Etiquetas distintas en cada target\n",
            "Y_train shape 23\n",
            "Y_test shape 23\n"
          ]
        }
      ],
      "source": [
        "print(\"X_train shape\", X_train.shape)\n",
        "print(\"Y_train shape\", Y_train.shape)\n",
        "print(\"X_test shape\", X_test.shape)\n",
        "print(\"Y_test shape\", Y_test.shape)\n",
        "print(\"Numero de target\", len(np.unique(y)))\n",
        "\n",
        "print(\"\\nEtiquetas distintas en cada target\")\n",
        "print(\"Y_train shape\", len(np.unique(Y_train)))\n",
        "print(\"Y_test shape\", len(np.unique(Y_test)))\n"
      ]
    },
    {
      "attachments": {},
      "cell_type": "markdown",
      "metadata": {
        "id": "vSFI73kRMDnA"
      },
      "source": [
        "Graficamos algunos ejemplos del conjunto dado del set de entrenamiento"
      ]
    },
    {
      "cell_type": "code",
      "execution_count": 17,
      "metadata": {
        "colab": {
          "base_uri": "https://localhost:8080/",
          "height": 345
        },
        "id": "3RhaNqIqEl0a",
        "outputId": "55bd8a2d-96f2-49ef-da7c-086c2d60c8ae"
      },
      "outputs": [
        {
          "data": {
            "image/png": "[encoded data removed]",
            "text/plain": [
              "<Figure size 900x400 with 12 Axes>"
            ]
          },
          "metadata": {},
          "output_type": "display_data"
        }
      ],
      "source": [
        "# show dataset.\n",
        "fig, axes = plt.subplots(3, 4, figsize=(9, 4),\n",
        "                         subplot_kw={'xticks':[], 'yticks':[]},\n",
        "                         gridspec_kw=dict(hspace=0.1, wspace=0.1))\n",
        "for i, ax in enumerate(axes.flat):\n",
        "    ax.imshow(X_train[i], cmap='bone')"
      ]
    },
    {
      "attachments": {},
      "cell_type": "markdown",
      "metadata": {
        "id": "0pg27CxlMYZf"
      },
      "source": [
        "Hago un reshaping para poder hacer el PCA"
      ]
    },
    {
      "cell_type": "code",
      "execution_count": 18,
      "metadata": {
        "colab": {
          "base_uri": "https://localhost:8080/"
        },
        "id": "s-UqANoYFYz7",
        "outputId": "c329ea65-168b-49d6-87b1-0aa3fadea565"
      },
      "outputs": [
        {
          "name": "stdout",
          "output_type": "stream",
          "text": [
            "Training matrix shape (1327, 22500)\n",
            "Testing matrix shape (570, 22500)\n"
          ]
        }
      ],
      "source": [
        "# Reshaping the dataset\n",
        "X_train = X_train.reshape(X_train.shape[0], 22500) \n",
        "X_test = X_test.reshape(X_test.shape[0], 22500)  \n",
        "\n",
        "# Change integers to 32-bit floating point numbers\n",
        "X_train = X_train.astype('float32')   \n",
        "X_test = X_test.astype('float32')\n",
        "\n",
        "print(\"Training matrix shape\", X_train.shape)\n",
        "print(\"Testing matrix shape\", X_test.shape)"
      ]
    },
    {
      "attachments": {},
      "cell_type": "markdown",
      "metadata": {
        "id": "sGuIL6SyMcei"
      },
      "source": [
        "Estandarizamos para aplicar escala de grises"
      ]
    },
    {
      "cell_type": "code",
      "execution_count": 19,
      "metadata": {
        "colab": {
          "base_uri": "https://localhost:8080/"
        },
        "id": "A14dlTmuFs0y",
        "outputId": "155a53bc-ef5c-4da1-e731-df44d40862e4"
      },
      "outputs": [
        {
          "name": "stdout",
          "output_type": "stream",
          "text": [
            "0.0 255.0\n",
            "0.0 255.0\n",
            "0.0 1.0\n",
            "0.0 1.0\n"
          ]
        }
      ],
      "source": [
        "print(X_train.min(), X_train.max())\n",
        "print(X_test.min(), X_test.max())\n",
        "\n",
        "X_train = X_train/255.0\n",
        "X_test = X_test/255.0\n",
        "\n",
        "print(X_train.min(), X_train.max())\n",
        "print(X_test.min(), X_test.max())"
      ]
    },
    {
      "attachments": {},
      "cell_type": "markdown",
      "metadata": {
        "id": "6p-Pa3CdMkXI"
      },
      "source": [
        "Aplicamos PCA para 90% de la variabilidad de los datos"
      ]
    },
    {
      "cell_type": "code",
      "execution_count": 20,
      "metadata": {
        "colab": {
          "base_uri": "https://localhost:8080/",
          "height": 75
        },
        "id": "PLyImDqD_kIv",
        "outputId": "683d02f3-fc90-403e-ed64-44bc5aae56c0"
      },
      "outputs": [
        {
          "data": {
            "text/html": [
              "<style>#sk-container-id-1 {color: black;background-color: white;}#sk-container-id-1 pre{padding: 0;}#sk-container-id-1 div.sk-toggleable {background-color: white;}#sk-container-id-1 label.sk-toggleable__label {cursor: pointer;display: block;width: 100%;margin-bottom: 0;padding: 0.3em;box-sizing: border-box;text-align: center;}#sk-container-id-1 label.sk-toggleable__label-arrow:before {content: \"▸\";float: left;margin-right: 0.25em;color: #696969;}#sk-container-id-1 label.sk-toggleable__label-arrow:hover:before {color: black;}#sk-container-id-1 div.sk-estimator:hover label.sk-toggleable__label-arrow:before {color: black;}#sk-container-id-1 div.sk-toggleable__content {max-height: 0;max-width: 0;overflow: hidden;text-align: left;background-color: #f0f8ff;}#sk-container-id-1 div.sk-toggleable__content pre {margin: 0.2em;color: black;border-radius: 0.25em;background-color: #f0f8ff;}#sk-container-id-1 input.sk-toggleable__control:checked~div.sk-toggleable__content {max-height: 200px;max-width: 100%;overflow: auto;}#sk-container-id-1 input.sk-toggleable__control:checked~label.sk-toggleable__label-arrow:before {content: \"▾\";}#sk-container-id-1 div.sk-estimator input.sk-toggleable__control:checked~label.sk-toggleable__label {background-color: #d4ebff;}#sk-container-id-1 div.sk-label input.sk-toggleable__control:checked~label.sk-toggleable__label {background-color: #d4ebff;}#sk-container-id-1 input.sk-hidden--visually {border: 0;clip: rect(1px 1px 1px 1px);clip: rect(1px, 1px, 1px, 1px);height: 1px;margin: -1px;overflow: hidden;padding: 0;position: absolute;width: 1px;}#sk-container-id-1 div.sk-estimator {font-family: monospace;background-color: #f0f8ff;border: 1px dotted black;border-radius: 0.25em;box-sizing: border-box;margin-bottom: 0.5em;}#sk-container-id-1 div.sk-estimator:hover {background-color: #d4ebff;}#sk-container-id-1 div.sk-parallel-item::after {content: \"\";width: 100%;border-bottom: 1px solid gray;flex-grow: 1;}#sk-container-id-1 div.sk-label:hover label.sk-toggleable__label {background-color: #d4ebff;}#sk-container-id-1 div.sk-serial::before {content: \"\";position: absolute;border-left: 1px solid gray;box-sizing: border-box;top: 0;bottom: 0;left: 50%;z-index: 0;}#sk-container-id-1 div.sk-serial {display: flex;flex-direction: column;align-items: center;background-color: white;padding-right: 0.2em;padding-left: 0.2em;position: relative;}#sk-container-id-1 div.sk-item {position: relative;z-index: 1;}#sk-container-id-1 div.sk-parallel {display: flex;align-items: stretch;justify-content: center;background-color: white;position: relative;}#sk-container-id-1 div.sk-item::before, #sk-container-id-1 div.sk-parallel-item::before {content: \"\";position: absolute;border-left: 1px solid gray;box-sizing: border-box;top: 0;bottom: 0;left: 50%;z-index: -1;}#sk-container-id-1 div.sk-parallel-item {display: flex;flex-direction: column;z-index: 1;position: relative;background-color: white;}#sk-container-id-1 div.sk-parallel-item:first-child::after {align-self: flex-end;width: 50%;}#sk-container-id-1 div.sk-parallel-item:last-child::after {align-self: flex-start;width: 50%;}#sk-container-id-1 div.sk-parallel-item:only-child::after {width: 0;}#sk-container-id-1 div.sk-dashed-wrapped {border: 1px dashed gray;margin: 0 0.4em 0.5em 0.4em;box-sizing: border-box;padding-bottom: 0.4em;background-color: white;}#sk-container-id-1 div.sk-label label {font-family: monospace;font-weight: bold;display: inline-block;line-height: 1.2em;}#sk-container-id-1 div.sk-label-container {text-align: center;}#sk-container-id-1 div.sk-container {/* jupyter's `normalize.less` sets `[hidden] { display: none; }` but bootstrap.min.css set `[hidden] { display: none !important; }` so we also need the `!important` here to be able to override the default hidden behavior on the sphinx rendered scikit-learn.org. See: https://github.com/scikit-learn/scikit-learn/issues/21755 */display: inline-block !important;position: relative;}#sk-container-id-1 div.sk-text-repr-fallback {display: none;}</style><div id=\"sk-container-id-1\" class=\"sk-top-container\"><div class=\"sk-text-repr-fallback\"><pre>PCA(n_components=0.9, svd_solver=&#x27;full&#x27;)</pre><b>In a Jupyter environment, please rerun this cell to show the HTML representation or trust the notebook. <br />On GitHub, the HTML representation is unable to render, please try loading this page with nbviewer.org.</b></div><div class=\"sk-container\" hidden><div class=\"sk-item\"><div class=\"sk-estimator sk-toggleable\"><input class=\"sk-toggleable__control sk-hidden--visually\" id=\"sk-estimator-id-1\" type=\"checkbox\" checked><label for=\"sk-estimator-id-1\" class=\"sk-toggleable__label sk-toggleable__label-arrow\">PCA</label><div class=\"sk-toggleable__content\"><pre>PCA(n_components=0.9, svd_solver=&#x27;full&#x27;)</pre></div></div></div></div></div>"
            ],
            "text/plain": [
              "PCA(n_components=0.9, svd_solver='full')"
            ]
          },
          "execution_count": 20,
          "metadata": {},
          "output_type": "execute_result"
        }
      ],
      "source": [
        "pca = PCA(n_components=.90, svd_solver = 'full')\n",
        "pca.fit(X_train)"
      ]
    },
    {
      "attachments": {},
      "cell_type": "markdown",
      "metadata": {
        "id": "C8EVulmdzvC9"
      },
      "source": [
        "Cantidad de componentes principales que explican una variabilidad del 90 %"
      ]
    },
    {
      "cell_type": "code",
      "execution_count": 21,
      "metadata": {
        "colab": {
          "base_uri": "https://localhost:8080/"
        },
        "id": "jWpVIbxMHHIt",
        "outputId": "24ac18e1-b2de-4295-e765-4716cf40b5dd"
      },
      "outputs": [
        {
          "data": {
            "text/plain": [
              "183"
            ]
          },
          "execution_count": 21,
          "metadata": {},
          "output_type": "execute_result"
        }
      ],
      "source": [
        "pca.n_components_"
      ]
    },
    {
      "cell_type": "code",
      "execution_count": 22,
      "metadata": {},
      "outputs": [
        {
          "name": "stdout",
          "output_type": "stream",
          "text": [
            "Componentes variancia 90%: 183\n"
          ]
        }
      ],
      "source": [
        "# Calcula la variancia acumulada\n",
        "var_cumu = np.cumsum(pca.explained_variance_ratio_)*100\n",
        "k = np.argmax(var_cumu>90)\n",
        "print(\"Componentes variancia 90%: \"+ str(k+1))"
      ]
    },
    {
      "cell_type": "code",
      "execution_count": 23,
      "metadata": {},
      "outputs": [
        {
          "data": {
            "image/png": "[encoded data removed]",
            "text/plain": [
              "<Figure size 1000x500 with 1 Axes>"
            ]
          },
          "metadata": {},
          "output_type": "display_data"
        }
      ],
      "source": [
        "# Grafica Variancia Acumulada\n",
        "plt.figure(figsize=[10,5])\n",
        "plt.title('Variancia acumulada explicada por componente')\n",
        "plt.ylabel('Variancia acumulada explicada (%)')\n",
        "plt.xlabel('Componentes Principales')\n",
        "plt.axvline(x=k, color=\"k\", linestyle=\"--\")\n",
        "plt.axhline(y=90, color=\"r\", linestyle=\"--\")\n",
        "ax = plt.plot(var_cumu)"
      ]
    },
    {
      "attachments": {},
      "cell_type": "markdown",
      "metadata": {
        "id": "NlqPNVcVKlb-"
      },
      "source": [
        "Aplicamos PCA para ambos sets (entrenamiento y test)"
      ]
    },
    {
      "cell_type": "code",
      "execution_count": 24,
      "metadata": {
        "colab": {
          "base_uri": "https://localhost:8080/"
        },
        "id": "HJGGOe0MIu6G",
        "outputId": "d3689975-0d2f-401e-cd28-ae8ce77d1c03"
      },
      "outputs": [
        {
          "name": "stdout",
          "output_type": "stream",
          "text": [
            "train_img shape : (1327, 183)\n",
            "test_img shape : (570, 183)\n"
          ]
        }
      ],
      "source": [
        "train_img = pca.transform(X_train)\n",
        "test_img = pca.transform(X_test)\n",
        "\n",
        "print(f'train_img shape : {train_img.shape}')\n",
        "print(f'test_img shape : {test_img.shape}')"
      ]
    },
    {
      "attachments": {},
      "cell_type": "markdown",
      "metadata": {
        "id": "9LSzCm0UbzKa"
      },
      "source": [
        "Las etiquetas de `Y_train` y `Y_test` son números entre 0 y 24.\n",
        "\n",
        "Convertimos las etiquetas de clase a la codificación 1-de-K. Para ello utilizamos la función `keras.utils.to_categorical` (similar al  `OneHotEncoder` de `sklearn`).\n"
      ]
    },
    {
      "cell_type": "code",
      "execution_count": 25,
      "metadata": {
        "colab": {
          "base_uri": "https://localhost:8080/"
        },
        "id": "jDQd3uU0f1Bg",
        "outputId": "83af9611-2142-4bba-f505-6aeb1b8e397d"
      },
      "outputs": [
        {
          "name": "stdout",
          "output_type": "stream",
          "text": [
            "[[0. 0. 0. 0. 0. 1. 0. 0. 0. 0. 0. 0. 0. 0. 0. 0. 0. 0. 0. 0. 0. 0. 0.]\n",
            " [0. 0. 0. 0. 0. 0. 0. 0. 1. 0. 0. 0. 0. 0. 0. 0. 0. 0. 0. 0. 0. 0. 0.]\n",
            " [0. 0. 0. 0. 0. 0. 0. 0. 0. 1. 0. 0. 0. 0. 0. 0. 0. 0. 0. 0. 0. 0. 0.]] [5 8 9]\n",
            "[[0. 0. 0. 0. 0. 0. 0. 1. 0. 0. 0. 0. 0. 0. 0. 0. 0. 0. 0. 0. 0. 0. 0.]\n",
            " [0. 0. 0. 0. 0. 0. 0. 1. 0. 0. 0. 0. 0. 0. 0. 0. 0. 0. 0. 0. 0. 0. 0.]\n",
            " [1. 0. 0. 0. 0. 0. 0. 0. 0. 0. 0. 0. 0. 0. 0. 0. 0. 0. 0. 0. 0. 0. 0.]] [7 7 0]\n"
          ]
        }
      ],
      "source": [
        "from sklearn.preprocessing import OneHotEncoder\n",
        "\n",
        "encoder = OneHotEncoder()\n",
        "Y_train_ohe = encoder.fit_transform(Y_train.reshape(-1, 1)).toarray()\n",
        "Y_test_ohe = encoder.fit_transform(Y_test.reshape(-1, 1)).toarray()\n",
        "\n",
        "print(Y_train_ohe[:3], Y_train[:3])\n",
        "print(Y_test_ohe[:3], Y_test[:3])"
      ]
    },
    {
      "attachments": {},
      "cell_type": "markdown",
      "metadata": {},
      "source": [
        "# 2.Creación de la red neuronal "
      ]
    },
    {
      "cell_type": "code",
      "execution_count": 26,
      "metadata": {},
      "outputs": [],
      "source": [
        "def func_eval(fname, x):\n",
        "    match fname:\n",
        "        case \"purelin\":\n",
        "            y = x\n",
        "        case \"logsig\":\n",
        "            y = 1.0 / ( 1.0 + math.exp(-x) )\n",
        "        case \"tansig\":\n",
        "            y = 2.0 / ( 1.0 + math.exp(-2.0*x) ) - 1.0\n",
        "    return y\n",
        "\n",
        "func_eval_vec = np.vectorize(func_eval)\n",
        "\n",
        "def deriv_eval(fname, y):  #atencion que y es la entrada y=f( x )\n",
        "    match fname:\n",
        "        case \"purelin\":\n",
        "            d = 1.0\n",
        "        case \"logsig\":\n",
        "            d = y*(1.0-y)\n",
        "        case \"tansig\":\n",
        "            d = 1.0 - y*y\n",
        "    return d\n",
        "\n",
        "deriv_eval_vec = np.vectorize(deriv_eval)"
      ]
    },
    {
      "cell_type": "code",
      "execution_count": 27,
      "metadata": {},
      "outputs": [],
      "source": [
        "# Seteo el set de entrenamiento\n",
        "X = train_img\n",
        "Y = Y_train_ohe"
      ]
    },
    {
      "attachments": {},
      "cell_type": "markdown",
      "metadata": {},
      "source": [
        "Utilizamos 60 neuronas"
      ]
    },
    {
      "cell_type": "code",
      "execution_count": 28,
      "metadata": {},
      "outputs": [],
      "source": [
        "#Parametros\n",
        "filas_qty = len(X)\n",
        "input_size = X.shape[1]   # 2 entradas\n",
        "hidden_size = 60  # neuronas capa oculta\n",
        "output_size = Y.shape[1]  # 1 neurona"
      ]
    },
    {
      "attachments": {},
      "cell_type": "markdown",
      "metadata": {},
      "source": [
        "Definimos las funciones de activacion logística para la capa oculta y la capa de salida"
      ]
    },
    {
      "cell_type": "code",
      "execution_count": 29,
      "metadata": {},
      "outputs": [],
      "source": [
        "hidden_FUNC = 'logsig'  # uso la logistica\n",
        "output_FUNC = 'logsig'  # uso la logistica"
      ]
    },
    {
      "attachments": {},
      "cell_type": "markdown",
      "metadata": {},
      "source": [
        "Incializamos las matrices de pesos azarosamente. W1 son los pesos que van del input a la capa oculta y W2 son los pesos que van de la capa oculta a la capa de salida"
      ]
    },
    {
      "cell_type": "code",
      "execution_count": 30,
      "metadata": {},
      "outputs": [],
      "source": [
        "np.random.seed(1021) #mi querida random seed para que las corridas sean reproducibles\n",
        "W1 = np.random.uniform(-0.5, 0.5, [hidden_size, input_size])\n",
        "X01 = np.random.uniform(-0.5, 0.5, [hidden_size, 1] )\n",
        "W2 = np.random.uniform(-0.5, 0.5, [output_size, hidden_size])\n",
        "X02 = np.random.uniform(-0.5, 0.5, [output_size, 1] )\n",
        "\n",
        "# Avanzo la red, forward\n",
        "# para TODOS los X al mismo tiempo ! \n",
        "#  @ hace el producto de una matrix por un vector_columna\n",
        "hidden_estimulos = W1 @ X.T + X01\n",
        "hidden_salidas = func_eval_vec(hidden_FUNC, hidden_estimulos)\n",
        "output_estimulos = W2 @ hidden_salidas + X02\n",
        "output_salidas = func_eval_vec(output_FUNC, output_estimulos)\n",
        "\n",
        "# calculo el error promedi general de TODOS los X\n",
        "Error= np.mean( (Y.T - output_salidas)**2 )"
      ]
    },
    {
      "cell_type": "code",
      "execution_count": 31,
      "metadata": {},
      "outputs": [],
      "source": [
        "# Inicializo\n",
        "epoch_limit = 2000    \n",
        "Error_umbral = 1.0e-06\n",
        "learning_rate = 0.20\n",
        "Error_last = 10   \n",
        "epoch = 0"
      ]
    },
    {
      "cell_type": "code",
      "execution_count": 32,
      "metadata": {},
      "outputs": [],
      "source": [
        "while (math.fabs(Error_last-Error)>Error_umbral and (epoch < epoch_limit)):\n",
        "    epoch += 1\n",
        "    Error_last = Error\n",
        "\n",
        "    # recorro siempre TODA la entrada\n",
        "    for fila in range(filas_qty): #para cada input x_sub_fila del vector X\n",
        "        # propagar el x hacia adelante\n",
        "        hidden_estimulos = W1 @ X[fila:fila+1, :].T + X01\n",
        "        hidden_salidas = func_eval_vec(hidden_FUNC, hidden_estimulos)\n",
        "        output_estimulos = W2 @ hidden_salidas + X02\n",
        "        output_salidas = func_eval_vec(output_FUNC, output_estimulos)\n",
        "\n",
        "        # calculo los errores en la capa hidden y la capa output\n",
        "        ErrorSalida = Y[fila:fila+1,:].T - output_salidas\n",
        "        # output_delta es un solo numero\n",
        "        output_delta = ErrorSalida * deriv_eval_vec(output_FUNC, output_salidas)\n",
        "        # hidden_delta es un vector columna\n",
        "        hidden_delta = deriv_eval_vec(hidden_FUNC, hidden_salidas)*(W2.T @ output_delta)\n",
        "\n",
        "        # ya tengo los errores que comete cada capa\n",
        "        # corregir matrices de pesos, voy hacia atras\n",
        "        # backpropagation\n",
        "        W1 = W1 + learning_rate * (hidden_delta @ X[fila:fila+1, :] )\n",
        "        X01 = X01 + learning_rate * hidden_delta\n",
        "        W2 = W2 + learning_rate * (output_delta @ hidden_salidas.T)\n",
        "        X02 = X02 + learning_rate * output_delta\n",
        "\n",
        "    # ya recalcule las matrices de pesos\n",
        "    # ahora avanzo la red, feed-forward\n",
        "    hidden_estimulos = W1 @ X.T + X01\n",
        "    hidden_salidas = func_eval_vec(hidden_FUNC, hidden_estimulos)\n",
        "    output_estimulos = W2 @ hidden_salidas + X02\n",
        "    output_salidas = func_eval_vec(output_FUNC, output_estimulos)\n",
        "\n",
        "    # calculo el error promedio general de TODOS los X\n",
        "    Error= np.mean( (Y.T - output_salidas)**2 )"
      ]
    },
    {
      "attachments": {},
      "cell_type": "markdown",
      "metadata": {},
      "source": [
        "## Evaluar el modelo"
      ]
    },
    {
      "cell_type": "code",
      "execution_count": 33,
      "metadata": {},
      "outputs": [],
      "source": [
        "# Seteamos el dataset de prueba\n",
        "X = test_img\n",
        "Y = Y_test_ohe"
      ]
    },
    {
      "cell_type": "code",
      "execution_count": 34,
      "metadata": {},
      "outputs": [
        {
          "name": "stdout",
          "output_type": "stream",
          "text": [
            "     Foto Clase Real Clase Predicha  Predicción Correcta\n",
            "0       1      Jiang        Joaquin                False\n",
            "1       2      Jiang          Jiang                 True\n",
            "2       3     Andres         Andres                 True\n",
            "3       4   Geronimo         Nestor                False\n",
            "4       5  Sebastian      Sebastian                 True\n",
            "5       6      Jiang       Josefina                False\n",
            "6       7   Josefina       Josefina                 True\n",
            "7       8      Jiang          Jiang                 True\n",
            "8       9      Lujan          Lujan                 True\n",
            "9      10  Sebastian      Sebastian                 True\n",
            "10     11  Sebastian      Sebastian                 True\n",
            "11     12     Silvia         Silvia                 True\n",
            "12     13     Elemir        Maribel                False\n",
            "13     14     Nestor          Lujan                False\n",
            "14     15    Joaquin        Joaquin                 True\n",
            "15     16   Fernanda        Claudia                False\n",
            "16     17        Mai        Claudia                False\n",
            "17     18    Julieta         Hernan                False\n",
            "18     19     Hernan            Mai                False\n",
            "19     20   Fernanda        Maribel                False\n",
            "20     21  Sebastian          Jiang                False\n",
            "21     22    Julieta       Fernanda                False\n",
            "22     23        Edu            Edu                 True\n",
            "23     24    Julieta        Julieta                 True\n",
            "24     25     Hernan         Hernan                 True\n",
            "25     26      Lujan          Lujan                 True\n",
            "26     27        Mai      Marcelo T                False\n",
            "27     28      Ramon          Ramon                 True\n",
            "28     29  Rodrigo E      Rodrigo E                 True\n",
            "29     30     Nestor         Nestor                 True\n",
            "30     31    Julieta      Sebastian                False\n",
            "31     32     Andres            Mai                False\n",
            "32     33      Jiang          Jiang                 True\n",
            "33     34    Maribel       Josefina                False\n",
            "34     35        Mai         Nestor                False\n",
            "35     36        Mai        Claudia                False\n",
            "36     37    Maribel        Maribel                 True\n",
            "37     38  Rodrigo E      Rodrigo E                 True\n",
            "38     39  Marcelo G      Marcelo G                 True\n",
            "39     40      Lujan          Lujan                 True\n",
            "40     41   Geronimo       Geronimo                 True\n",
            "41     42     Elemir         Elemir                 True\n",
            "42     43  Sebastian            Mai                False\n",
            "43     44        Mai      Rodrigo E                False\n",
            "44     45   Geronimo       Geronimo                 True\n",
            "45     46    Maribel        Maribel                 True\n",
            "46     47      Lujan          Lujan                 True\n",
            "47     48   Fernanda         Nestor                False\n",
            "48     49   Geronimo      Marcelo T                False\n",
            "49     50     Hernan         Hernan                 True\n",
            "50     51   Josefina         Silvia                False\n",
            "51     52    Claudia            Edu                False\n",
            "52     53     Hernan         Hernan                 True\n",
            "53     54  Rodrigo E      Rodrigo E                 True\n",
            "54     55  Sebastian          Jiang                False\n",
            "55     56  Rodrigo E      Rodrigo E                 True\n",
            "56     57     Hernan         Hernan                 True\n",
            "57     58    Claudia        Claudia                 True\n",
            "58     59   Fernanda         Andres                False\n",
            "59     60  Sebastian         Nestor                False\n",
            "60     61      Ramon          Ramon                 True\n",
            "61     62    Claudia        Claudia                 True\n",
            "62     63     Andres         Andres                 True\n",
            "63     64        Mai            Mai                 True\n",
            "64     65    Joaquin        Joaquin                 True\n",
            "65     66     Elemir      Marcelo G                False\n",
            "66     67    Claudia        Claudia                 True\n",
            "67     68     Nestor       Geronimo                False\n",
            "68     69    Joaquin        Joaquin                 True\n",
            "69     70  Rodrigo E      Rodrigo E                 True\n",
            "70     71     Nestor         Nestor                 True\n",
            "71     72    Joaquin        Joaquin                 True\n",
            "72     73   Fernanda        Julieta                False\n",
            "73     74      Lujan         Nestor                False\n",
            "74     75      Ramon          Ramon                 True\n",
            "75     76     Silvia         Silvia                 True\n",
            "76     77    Joaquin        Joaquin                 True\n",
            "77     78     Nestor       Fernanda                False\n",
            "78     79     Andres         Andres                 True\n",
            "79     80    Julieta        Julieta                 True\n",
            "80     81     Elemir        Julieta                False\n",
            "81     82   Josefina       Josefina                 True\n",
            "82     83  Marcelo T      Marcelo G                False\n",
            "83     84        Edu            Edu                 True\n",
            "84     85        Edu            Edu                 True\n",
            "85     86    Joaquin        Joaquin                 True\n",
            "86     87      Jiang         Andres                False\n",
            "87     88      Oscar      Sebastian                False\n",
            "88     89     Andres         Andres                 True\n",
            "89     90    Julieta       Fernanda                False\n",
            "90     91    Maribel        Maribel                 True\n",
            "91     92  Marcelo T      Marcelo T                 True\n",
            "92     93      Jiang          Jiang                 True\n",
            "93     94     Silvia         Silvia                 True\n",
            "94     95     Hernan         Hernan                 True\n",
            "95     96   Fernanda         Hernan                False\n",
            "96     97  Sebastian      Sebastian                 True\n",
            "97     98  Marcelo T            Mai                False\n",
            "98     99      Ramon          Ramon                 True\n",
            "99    100     Elemir            Mai                False\n",
            "100   101     Hernan         Hernan                 True\n",
            "101   102    Julieta         Marisa                False\n",
            "102   103  Marcelo T      Marcelo T                 True\n",
            "103   104    Maribel        Maribel                 True\n",
            "104   105     Andres         Andres                 True\n",
            "105   106     Andres         Andres                 True\n",
            "106   107      Jiang          Jiang                 True\n",
            "107   108        Mai       Josefina                False\n",
            "108   109  Sebastian        Maribel                False\n",
            "109   110   Josefina       Josefina                 True\n",
            "110   111     Hernan         Hernan                 True\n",
            "111   112        Edu            Edu                 True\n",
            "112   113  Rodrigo E      Rodrigo E                 True\n",
            "113   114        Mai            Mai                 True\n",
            "114   115  Sebastian         Elemir                False\n",
            "115   116      Jiang          Jiang                 True\n",
            "116   117     Elemir         Elemir                 True\n",
            "117   118      Oscar          Oscar                 True\n",
            "118   119        Edu            Edu                 True\n",
            "119   120    Claudia        Claudia                 True\n",
            "120   121     Andres         Andres                 True\n",
            "121   122     Elemir      Marcelo G                False\n",
            "122   123        Mai       Fernanda                False\n",
            "123   124        Edu            Edu                 True\n",
            "124   125        Mai      Sebastian                False\n",
            "125   126   Josefina         Elemir                False\n",
            "126   127   Fernanda      Marcelo T                False\n",
            "127   128        Edu            Edu                 True\n",
            "128   129     Nestor         Nestor                 True\n",
            "129   130   Fernanda       Fernanda                 True\n",
            "130   131    Julieta        Julieta                 True\n",
            "131   132  Marcelo T      Marcelo T                 True\n",
            "132   133    Julieta        Julieta                 True\n",
            "133   134      Oscar      Sebastian                False\n",
            "134   135      Ramon      Marcelo G                False\n",
            "135   136      Lujan          Lujan                 True\n",
            "136   137  Marcelo G      Marcelo G                 True\n",
            "137   138        Mai          Lujan                False\n",
            "138   139   Fernanda       Geronimo                False\n",
            "139   140     Nestor         Nestor                 True\n",
            "140   141  Marcelo T            Mai                False\n",
            "141   142      Oscar          Oscar                 True\n",
            "142   143    Claudia        Claudia                 True\n",
            "143   144     Elemir         Elemir                 True\n",
            "144   145  Marcelo T      Marcelo T                 True\n",
            "145   146    Claudia        Claudia                 True\n",
            "146   147     Elemir         Elemir                 True\n",
            "147   148     Andres         Andres                 True\n",
            "148   149     Elemir      Sebastian                False\n",
            "149   150        Mai        Claudia                False\n",
            "150   151      Ramon          Ramon                 True\n",
            "151   152  Sebastian      Sebastian                 True\n",
            "152   153    Maribel       Fernanda                False\n",
            "153   154   Josefina       Josefina                 True\n",
            "154   155     Elemir         Elemir                 True\n",
            "155   156      Lujan         Hernan                False\n",
            "156   157     Silvia         Silvia                 True\n",
            "157   158      Jiang         Nestor                False\n",
            "158   159     Marisa         Marisa                 True\n",
            "159   160  Marcelo T      Marcelo T                 True\n",
            "160   161  Marcelo T      Marcelo T                 True\n",
            "161   162    Joaquin        Joaquin                 True\n",
            "162   163  Sebastian         Nestor                False\n",
            "163   164      Ramon          Ramon                 True\n",
            "164   165        Edu            Edu                 True\n",
            "165   166        Mai      Sebastian                False\n",
            "166   167     Hernan         Nestor                False\n",
            "167   168     Elemir      Marcelo G                False\n",
            "168   169  Rodrigo E      Rodrigo E                 True\n",
            "169   170     Andres         Andres                 True\n",
            "170   171     Marisa       Fernanda                False\n",
            "171   172      Oscar          Oscar                 True\n",
            "172   173  Sebastian         Nestor                False\n",
            "173   174    Claudia        Claudia                 True\n",
            "174   175    Julieta        Julieta                 True\n",
            "175   176     Andres        Joaquin                False\n",
            "176   177        Edu            Edu                 True\n",
            "177   178    Claudia        Claudia                 True\n",
            "178   179    Joaquin        Joaquin                 True\n",
            "179   180  Rodrigo E      Rodrigo E                 True\n",
            "180   181  Rodrigo E      Rodrigo E                 True\n",
            "181   182    Maribel         Elemir                False\n",
            "182   183    Julieta        Julieta                 True\n",
            "183   184   Josefina       Josefina                 True\n",
            "184   185    Julieta        Julieta                 True\n",
            "185   186  Sebastian      Sebastian                 True\n",
            "186   187  Marcelo G      Marcelo G                 True\n",
            "187   188      Jiang      Sebastian                False\n",
            "188   189     Hernan         Hernan                 True\n",
            "189   190    Joaquin       Josefina                False\n",
            "190   191     Nestor       Fernanda                False\n",
            "191   192   Josefina         Elemir                False\n",
            "192   193     Nestor         Hernan                False\n",
            "193   194    Claudia        Claudia                 True\n",
            "194   195      Oscar          Oscar                 True\n",
            "195   196     Andres         Andres                 True\n",
            "196   197    Claudia        Claudia                 True\n",
            "197   198      Oscar          Oscar                 True\n",
            "198   199   Fernanda        Julieta                False\n",
            "199   200   Josefina        Claudia                False\n",
            "200   201  Rodrigo E      Rodrigo E                 True\n",
            "201   202    Claudia        Claudia                 True\n",
            "202   203    Julieta       Fernanda                False\n",
            "203   204   Geronimo         Nestor                False\n",
            "204   205  Marcelo G      Marcelo G                 True\n",
            "205   206  Marcelo G      Marcelo G                 True\n",
            "206   207      Oscar          Oscar                 True\n",
            "207   208   Josefina        Claudia                False\n",
            "208   209      Jiang       Geronimo                False\n",
            "209   210    Joaquin        Joaquin                 True\n",
            "210   211      Jiang          Jiang                 True\n",
            "211   212   Geronimo      Sebastian                False\n",
            "212   213     Silvia         Silvia                 True\n",
            "213   214  Rodrigo E      Rodrigo E                 True\n",
            "214   215   Fernanda       Fernanda                 True\n",
            "215   216        Mai       Josefina                False\n",
            "216   217     Silvia         Silvia                 True\n",
            "217   218        Edu            Edu                 True\n",
            "218   219     Andres         Andres                 True\n",
            "219   220  Rodrigo E      Rodrigo E                 True\n",
            "220   221   Fernanda       Fernanda                 True\n",
            "221   222        Edu            Edu                 True\n",
            "222   223        Edu            Edu                 True\n",
            "223   224    Maribel        Maribel                 True\n",
            "224   225      Lujan       Josefina                False\n",
            "225   226  Marcelo T         Marisa                False\n",
            "226   227        Mai         Nestor                False\n",
            "227   228      Jiang         Hernan                False\n",
            "228   229   Josefina       Josefina                 True\n",
            "229   230   Geronimo       Geronimo                 True\n",
            "230   231     Andres         Andres                 True\n",
            "231   232        Edu      Marcelo G                False\n",
            "232   233  Marcelo T      Rodrigo E                False\n",
            "233   234      Lujan          Lujan                 True\n",
            "234   235  Rodrigo E      Rodrigo E                 True\n",
            "235   236      Ramon          Ramon                 True\n",
            "236   237   Geronimo        Julieta                False\n",
            "237   238     Andres         Andres                 True\n",
            "238   239   Josefina       Josefina                 True\n",
            "239   240      Jiang          Jiang                 True\n",
            "240   241  Sebastian      Sebastian                 True\n",
            "241   242    Claudia        Claudia                 True\n",
            "242   243     Andres          Jiang                False\n",
            "243   244      Oscar       Fernanda                False\n",
            "244   245  Marcelo G      Marcelo G                 True\n",
            "245   246     Hernan         Hernan                 True\n",
            "246   247      Ramon          Ramon                 True\n",
            "247   248  Marcelo T      Marcelo T                 True\n",
            "248   249  Marcelo G      Marcelo G                 True\n",
            "249   250    Julieta         Silvia                False\n",
            "250   251      Ramon      Marcelo G                False\n",
            "251   252  Marcelo T      Marcelo T                 True\n",
            "252   253   Fernanda          Ramon                False\n",
            "253   254      Oscar          Oscar                 True\n",
            "254   255   Fernanda        Maribel                False\n",
            "255   256   Fernanda         Hernan                False\n",
            "256   257    Joaquin        Joaquin                 True\n",
            "257   258   Geronimo       Geronimo                 True\n",
            "258   259   Josefina        Julieta                False\n",
            "259   260     Silvia         Silvia                 True\n",
            "260   261    Maribel        Maribel                 True\n",
            "261   262     Andres       Geronimo                False\n",
            "262   263        Edu          Jiang                False\n",
            "263   264     Nestor         Nestor                 True\n",
            "264   265   Fernanda       Fernanda                 True\n",
            "265   266     Nestor         Nestor                 True\n",
            "266   267     Marisa         Marisa                 True\n",
            "267   268   Josefina       Josefina                 True\n",
            "268   269     Silvia         Silvia                 True\n",
            "269   270     Marisa         Marisa                 True\n",
            "270   271      Jiang          Jiang                 True\n",
            "271   272        Edu            Edu                 True\n",
            "272   273  Marcelo G      Sebastian                False\n",
            "273   274      Ramon          Ramon                 True\n",
            "274   275  Marcelo G      Marcelo G                 True\n",
            "275   276     Hernan         Hernan                 True\n",
            "276   277      Jiang          Jiang                 True\n",
            "277   278     Marisa        Maribel                False\n",
            "278   279      Ramon         Elemir                False\n",
            "279   280  Marcelo T      Marcelo T                 True\n",
            "280   281    Claudia            Mai                False\n",
            "281   282     Hernan         Hernan                 True\n",
            "282   283  Rodrigo E      Rodrigo E                 True\n",
            "283   284     Andres        Julieta                False\n",
            "284   285   Fernanda        Julieta                False\n",
            "285   286      Jiang          Jiang                 True\n",
            "286   287     Hernan         Hernan                 True\n",
            "287   288     Andres         Andres                 True\n",
            "288   289      Oscar          Oscar                 True\n",
            "289   290     Silvia         Silvia                 True\n",
            "290   291    Joaquin        Joaquin                 True\n",
            "291   292     Marisa         Marisa                 True\n",
            "292   293      Oscar          Oscar                 True\n",
            "293   294   Geronimo          Ramon                False\n",
            "294   295      Ramon          Ramon                 True\n",
            "295   296    Joaquin        Joaquin                 True\n",
            "296   297     Hernan         Hernan                 True\n",
            "297   298  Marcelo G         Andres                False\n",
            "298   299        Edu            Edu                 True\n",
            "299   300      Jiang          Jiang                 True\n",
            "300   301     Hernan         Hernan                 True\n",
            "301   302    Joaquin        Joaquin                 True\n",
            "302   303  Marcelo G      Marcelo G                 True\n",
            "303   304     Hernan            Mai                False\n",
            "304   305      Jiang          Jiang                 True\n",
            "305   306      Jiang      Marcelo G                False\n",
            "306   307    Maribel        Maribel                 True\n",
            "307   308     Elemir         Elemir                 True\n",
            "308   309    Joaquin        Joaquin                 True\n",
            "309   310  Marcelo G      Marcelo G                 True\n",
            "310   311     Silvia       Josefina                False\n",
            "311   312        Mai      Marcelo T                False\n",
            "312   313      Lujan          Lujan                 True\n",
            "313   314    Joaquin        Joaquin                 True\n",
            "314   315     Elemir          Oscar                False\n",
            "315   316      Lujan          Lujan                 True\n",
            "316   317    Maribel        Maribel                 True\n",
            "317   318        Mai            Mai                 True\n",
            "318   319     Andres         Andres                 True\n",
            "319   320        Edu            Edu                 True\n",
            "320   321     Andres        Julieta                False\n",
            "321   322    Claudia        Claudia                 True\n",
            "322   323     Andres         Andres                 True\n",
            "323   324     Hernan            Mai                False\n",
            "324   325     Marisa         Marisa                 True\n",
            "325   326        Mai      Marcelo T                False\n",
            "326   327   Geronimo       Geronimo                 True\n",
            "327   328   Josefina         Hernan                False\n",
            "328   329   Fernanda       Fernanda                 True\n",
            "329   330     Nestor         Nestor                 True\n",
            "330   331     Hernan         Hernan                 True\n",
            "331   332      Lujan          Lujan                 True\n",
            "332   333   Josefina            Edu                False\n",
            "333   334   Fernanda        Maribel                False\n",
            "334   335     Elemir         Elemir                 True\n",
            "335   336     Marisa       Fernanda                False\n",
            "336   337   Geronimo      Sebastian                False\n",
            "337   338     Hernan      Marcelo G                False\n",
            "338   339     Elemir      Marcelo G                False\n",
            "339   340   Geronimo         Nestor                False\n",
            "340   341     Andres        Joaquin                False\n",
            "341   342      Ramon          Ramon                 True\n",
            "342   343     Andres         Andres                 True\n",
            "343   344  Marcelo G       Geronimo                False\n",
            "344   345  Marcelo T      Marcelo T                 True\n",
            "345   346     Nestor       Geronimo                False\n",
            "346   347  Marcelo T      Marcelo T                 True\n",
            "347   348   Geronimo      Sebastian                False\n",
            "348   349   Josefina       Josefina                 True\n",
            "349   350      Jiang         Elemir                False\n",
            "350   351     Elemir         Elemir                 True\n",
            "351   352        Mai         Nestor                False\n",
            "352   353   Josefina       Josefina                 True\n",
            "353   354      Ramon       Geronimo                False\n",
            "354   355    Julieta        Julieta                 True\n",
            "355   356      Oscar          Oscar                 True\n",
            "356   357  Marcelo T      Marcelo T                 True\n",
            "357   358   Fernanda         Elemir                False\n",
            "358   359    Maribel        Julieta                False\n",
            "359   360    Julieta       Geronimo                False\n",
            "360   361     Elemir         Elemir                 True\n",
            "361   362  Sebastian      Sebastian                 True\n",
            "362   363  Marcelo G      Marcelo G                 True\n",
            "363   364   Fernanda        Maribel                False\n",
            "364   365      Lujan          Lujan                 True\n",
            "365   366     Andres         Andres                 True\n",
            "366   367     Silvia        Julieta                False\n",
            "367   368  Sebastian          Jiang                False\n",
            "368   369      Ramon          Ramon                 True\n",
            "369   370  Marcelo T            Mai                False\n",
            "370   371      Oscar         Nestor                False\n",
            "371   372    Claudia        Claudia                 True\n",
            "372   373  Sebastian        Maribel                False\n",
            "373   374      Lujan          Lujan                 True\n",
            "374   375        Mai         Elemir                False\n",
            "375   376     Marisa       Fernanda                False\n",
            "376   377   Geronimo       Geronimo                 True\n",
            "377   378     Marisa       Fernanda                False\n",
            "378   379     Hernan         Hernan                 True\n",
            "379   380        Edu            Edu                 True\n",
            "380   381        Edu            Edu                 True\n",
            "381   382    Julieta       Josefina                False\n",
            "382   383    Joaquin        Joaquin                 True\n",
            "383   384     Silvia         Silvia                 True\n",
            "384   385      Ramon          Ramon                 True\n",
            "385   386        Edu            Edu                 True\n",
            "386   387        Edu            Edu                 True\n",
            "387   388    Julieta        Julieta                 True\n",
            "388   389     Marisa       Josefina                False\n",
            "389   390      Jiang          Jiang                 True\n",
            "390   391    Julieta         Andres                False\n",
            "391   392      Oscar          Oscar                 True\n",
            "392   393   Fernanda          Lujan                False\n",
            "393   394     Elemir         Elemir                 True\n",
            "394   395    Claudia        Claudia                 True\n",
            "395   396      Ramon          Ramon                 True\n",
            "396   397   Fernanda       Josefina                False\n",
            "397   398     Hernan         Hernan                 True\n",
            "398   399    Claudia         Silvia                False\n",
            "399   400    Maribel        Maribel                 True\n",
            "400   401      Oscar        Maribel                False\n",
            "401   402      Oscar            Edu                False\n",
            "402   403   Josefina       Josefina                 True\n",
            "403   404    Maribel        Maribel                 True\n",
            "404   405   Fernanda       Fernanda                 True\n",
            "405   406      Lujan          Lujan                 True\n",
            "406   407   Josefina       Josefina                 True\n",
            "407   408      Lujan          Lujan                 True\n",
            "408   409    Claudia        Claudia                 True\n",
            "409   410    Joaquin        Joaquin                 True\n",
            "410   411     Silvia         Silvia                 True\n",
            "411   412   Geronimo       Geronimo                 True\n",
            "412   413   Geronimo        Julieta                False\n",
            "413   414   Josefina         Silvia                False\n",
            "414   415    Claudia        Claudia                 True\n",
            "415   416      Oscar          Oscar                 True\n",
            "416   417        Edu            Edu                 True\n",
            "417   418     Silvia            Mai                False\n",
            "418   419  Marcelo T      Marcelo T                 True\n",
            "419   420    Maribel        Maribel                 True\n",
            "420   421     Marisa         Marisa                 True\n",
            "421   422  Marcelo G      Marcelo G                 True\n",
            "422   423  Sebastian      Sebastian                 True\n",
            "423   424  Marcelo T      Marcelo T                 True\n",
            "424   425    Claudia      Sebastian                False\n",
            "425   426     Nestor         Nestor                 True\n",
            "426   427      Jiang      Rodrigo E                False\n",
            "427   428   Fernanda            Mai                False\n",
            "428   429     Hernan        Joaquin                False\n",
            "429   430    Maribel       Josefina                False\n",
            "430   431  Marcelo T      Marcelo T                 True\n",
            "431   432        Mai            Mai                 True\n",
            "432   433        Edu            Edu                 True\n",
            "433   434      Ramon          Ramon                 True\n",
            "434   435  Marcelo T      Marcelo T                 True\n",
            "435   436      Lujan          Lujan                 True\n",
            "436   437  Marcelo T        Claudia                False\n",
            "437   438   Fernanda       Fernanda                 True\n",
            "438   439     Marisa         Marisa                 True\n",
            "439   440  Rodrigo E      Rodrigo E                 True\n",
            "440   441    Maribel       Josefina                False\n",
            "441   442  Sebastian         Elemir                False\n",
            "442   443   Geronimo       Geronimo                 True\n",
            "443   444    Julieta            Mai                False\n",
            "444   445   Geronimo       Geronimo                 True\n",
            "445   446    Claudia        Claudia                 True\n",
            "446   447     Hernan       Fernanda                False\n",
            "447   448  Rodrigo E      Rodrigo E                 True\n",
            "448   449        Edu      Sebastian                False\n",
            "449   450  Sebastian      Sebastian                 True\n",
            "450   451      Jiang          Jiang                 True\n",
            "451   452     Andres        Julieta                False\n",
            "452   453     Marisa       Josefina                False\n",
            "453   454      Oscar          Oscar                 True\n",
            "454   455     Nestor         Marisa                False\n",
            "455   456    Julieta        Julieta                 True\n",
            "456   457     Hernan            Mai                False\n",
            "457   458     Silvia         Silvia                 True\n",
            "458   459    Maribel        Maribel                 True\n",
            "459   460  Marcelo T            Edu                False\n",
            "460   461     Elemir         Elemir                 True\n",
            "461   462  Sebastian          Jiang                False\n",
            "462   463      Lujan          Lujan                 True\n",
            "463   464   Geronimo         Elemir                False\n",
            "464   465    Claudia            Edu                False\n",
            "465   466        Edu            Edu                 True\n",
            "466   467  Marcelo G         Nestor                False\n",
            "467   468     Andres          Oscar                False\n",
            "468   469        Edu      Sebastian                False\n",
            "469   470  Sebastian        Julieta                False\n",
            "470   471        Mai         Marisa                False\n",
            "471   472     Hernan         Hernan                 True\n",
            "472   473   Geronimo         Marisa                False\n",
            "473   474      Jiang          Jiang                 True\n",
            "474   475     Nestor      Sebastian                False\n",
            "475   476    Julieta        Julieta                 True\n",
            "476   477  Marcelo G      Marcelo G                 True\n",
            "477   478  Marcelo G      Marcelo G                 True\n",
            "478   479     Hernan         Hernan                 True\n",
            "479   480     Andres         Andres                 True\n",
            "480   481   Fernanda       Fernanda                 True\n",
            "481   482     Marisa          Ramon                False\n",
            "482   483        Edu         Elemir                False\n",
            "483   484  Marcelo T       Geronimo                False\n",
            "484   485     Marisa            Mai                False\n",
            "485   486     Elemir      Marcelo G                False\n",
            "486   487  Sebastian          Ramon                False\n",
            "487   488   Geronimo       Geronimo                 True\n",
            "488   489     Elemir         Elemir                 True\n",
            "489   490     Marisa         Marisa                 True\n",
            "490   491    Julieta        Julieta                 True\n",
            "491   492    Julieta        Julieta                 True\n",
            "492   493    Julieta        Julieta                 True\n",
            "493   494    Maribel        Julieta                False\n",
            "494   495    Julieta        Julieta                 True\n",
            "495   496    Maribel          Oscar                False\n",
            "496   497      Jiang          Jiang                 True\n",
            "497   498     Silvia       Josefina                False\n",
            "498   499    Claudia            Mai                False\n",
            "499   500        Edu          Jiang                False\n",
            "500   501      Jiang            Mai                False\n",
            "501   502  Marcelo G      Marcelo G                 True\n",
            "502   503      Oscar          Jiang                False\n",
            "503   504      Oscar          Oscar                 True\n",
            "504   505  Sebastian      Sebastian                 True\n",
            "505   506      Lujan            Edu                False\n",
            "506   507        Mai          Oscar                False\n",
            "507   508    Joaquin       Josefina                False\n",
            "508   509     Marisa          Oscar                False\n",
            "509   510  Sebastian        Claudia                False\n",
            "510   511  Rodrigo E      Rodrigo E                 True\n",
            "511   512     Marisa        Julieta                False\n",
            "512   513        Edu            Edu                 True\n",
            "513   514   Josefina       Josefina                 True\n",
            "514   515      Lujan          Lujan                 True\n",
            "515   516  Marcelo G      Marcelo G                 True\n",
            "516   517  Marcelo T       Geronimo                False\n",
            "517   518  Rodrigo E      Rodrigo E                 True\n",
            "518   519     Nestor         Hernan                False\n",
            "519   520  Sebastian      Sebastian                 True\n",
            "520   521  Marcelo T      Marcelo G                False\n",
            "521   522   Fernanda         Silvia                False\n",
            "522   523      Jiang         Hernan                False\n",
            "523   524   Josefina       Josefina                 True\n",
            "524   525     Nestor         Nestor                 True\n",
            "525   526      Jiang          Jiang                 True\n",
            "526   527     Elemir      Sebastian                False\n",
            "527   528     Silvia        Julieta                False\n",
            "528   529  Marcelo T         Elemir                False\n",
            "529   530     Silvia         Silvia                 True\n",
            "530   531   Fernanda       Fernanda                 True\n",
            "531   532        Edu            Mai                False\n",
            "532   533    Maribel       Fernanda                False\n",
            "533   534      Ramon          Ramon                 True\n",
            "534   535     Marisa       Geronimo                False\n",
            "535   536        Mai            Mai                 True\n",
            "536   537     Marisa         Marisa                 True\n",
            "537   538        Mai         Marisa                False\n",
            "538   539     Hernan         Hernan                 True\n",
            "539   540   Geronimo        Julieta                False\n",
            "540   541  Rodrigo E      Rodrigo E                 True\n",
            "541   542     Nestor         Hernan                False\n",
            "542   543   Josefina        Julieta                False\n",
            "543   544     Elemir       Josefina                False\n",
            "544   545      Lujan        Julieta                False\n",
            "545   546    Joaquin        Joaquin                 True\n",
            "546   547     Nestor       Geronimo                False\n",
            "547   548   Josefina       Josefina                 True\n",
            "548   549     Elemir         Elemir                 True\n",
            "549   550     Nestor         Nestor                 True\n",
            "550   551        Mai          Oscar                False\n",
            "551   552     Andres         Andres                 True\n",
            "552   553     Hernan         Hernan                 True\n",
            "553   554     Andres         Andres                 True\n",
            "554   555   Fernanda       Fernanda                 True\n",
            "555   556        Mai            Mai                 True\n",
            "556   557      Ramon          Ramon                 True\n",
            "557   558  Marcelo T        Claudia                False\n",
            "558   559  Sebastian            Mai                False\n",
            "559   560    Claudia       Geronimo                False\n",
            "560   561     Hernan         Hernan                 True\n",
            "561   562  Sebastian      Sebastian                 True\n",
            "562   563     Silvia         Silvia                 True\n",
            "563   564  Sebastian         Nestor                False\n",
            "564   565        Mai         Nestor                False\n",
            "565   566    Joaquin        Joaquin                 True\n",
            "566   567  Marcelo T      Marcelo T                 True\n",
            "567   568  Marcelo G      Marcelo G                 True\n",
            "568   569        Mai         Elemir                False\n",
            "569   570        Mai          Lujan                False\n",
            "Cantidad de aciertos:  348 sobre un total de  570 fotos\n",
            "Accuracy:  61.05263157894737\n"
          ]
        }
      ],
      "source": [
        "# Recalculamos las filas de dataset de test\n",
        "filas_qty = len(X)\n",
        "resultados = []\n",
        "\n",
        "# Recorremos todas las fotos del set de testing\n",
        "cantidad_aciertos=0\n",
        "\n",
        "for fila in range(filas_qty): #para cada input x_sub_fila del vector X\n",
        "    # propagar el x hacia adelante\n",
        "    hidden_estimulos = W1 @ X[fila:fila+1, :].T + X01\n",
        "    hidden_salidas = func_eval_vec(hidden_FUNC, hidden_estimulos)\n",
        "    output_estimulos = W2 @ hidden_salidas + X02\n",
        "    output_salidas = func_eval_vec(output_FUNC, output_estimulos)\n",
        "\n",
        "    # calculo los errores en la capa hidden y la capa output\n",
        "    ErrorSalida = Y[fila:fila+1,:].T - output_salidas\n",
        "   \n",
        "    # Verificar si la predicción es correcta\n",
        "    prediccion_correcta = nombres_unicos[np.argmax(Y[fila:fila+1,:].T)] == nombres_unicos[np.argmax(output_salidas)]\n",
        "    \n",
        "    # Agregar el resultado a la lista\n",
        "    resultados.append({'Foto': fila+1,\n",
        "                       'Clase Real': nombres_unicos[np.argmax(Y[fila:fila+1,:].T)],\n",
        "                       'Clase Predicha': nombres_unicos[np.argmax(output_salidas)],\n",
        "                       'Predicción Correcta': prediccion_correcta})\n",
        "    \n",
        "    if (np.argmax(Y[fila:fila+1,:].T)==np.argmax(output_salidas)):\n",
        "        cantidad_aciertos += 1\n",
        "        \n",
        "       \n",
        "# Crear la tabla con los resultados\n",
        "tabla_resultados = pd.DataFrame(resultados)\n",
        "pd.set_option('display.max_rows', None)\n",
        "              \n",
        "# Mostrar la tabla\n",
        "print(tabla_resultados)\n",
        "\n",
        "print(\"Cantidad de aciertos: \", cantidad_aciertos, \"sobre un total de \",filas_qty, \"fotos\")\n",
        "print(\"Accuracy: \", (cantidad_aciertos/filas_qty)*100)"
      ]
    },
    {
      "attachments": {},
      "cell_type": "markdown",
      "metadata": {},
      "source": [
        "# Backpropagation 2 capas"
      ]
    },
    {
      "cell_type": "code",
      "execution_count": 35,
      "metadata": {},
      "outputs": [],
      "source": [
        "# Seteo el set de entrenamiento\n",
        "X = train_img\n",
        "Y = Y_train_ohe"
      ]
    },
    {
      "cell_type": "code",
      "execution_count": 36,
      "metadata": {},
      "outputs": [],
      "source": [
        "#Parametros\n",
        "filas_qty = len(X)\n",
        "input_size = X.shape[1]   # 2 entradas\n",
        "hidden_size1 = 35  # neuronas en la primera capa oculta\n",
        "hidden_size2 = 35  # neuronas en la segunda capa oculta\n",
        "output_size = Y.shape[1]  # 1 neurona"
      ]
    },
    {
      "cell_type": "code",
      "execution_count": 37,
      "metadata": {},
      "outputs": [],
      "source": [
        "hidden_FUNC1 = 'logsig'  # usamos la logistica\n",
        "hidden_FUNC2 = 'logsig'  # usamos la logistica\n",
        "output_FUNC = 'logsig'  # uso la logistica"
      ]
    },
    {
      "cell_type": "code",
      "execution_count": 38,
      "metadata": {},
      "outputs": [
        {
          "name": "stdout",
          "output_type": "stream",
          "text": [
            "Initial error: 0.3007352647488774\n"
          ]
        }
      ],
      "source": [
        "np.random.seed(1021) #mi querida random seed para que las corridas sean reproducibles\n",
        "W1 = np.random.uniform(-0.5, 0.5, [hidden_size1, input_size])\n",
        "X01 = np.random.uniform(-0.5, 0.5, [hidden_size1, 1])\n",
        "W2 = np.random.uniform(-0.5, 0.5, [hidden_size2, hidden_size1])\n",
        "X02 = np.random.uniform(-0.5, 0.5, [hidden_size2, 1])\n",
        "W3 = np.random.uniform(-0.5, 0.5, [output_size, hidden_size2])\n",
        "X03 = np.random.uniform(-0.5, 0.5, [output_size, 1])\n",
        "\n",
        "# Avanzo la red, forward\n",
        "# para TODOS los X al mismo tiempo ! \n",
        "#  @ hace el producto de una matrix por un vector_columna\n",
        "hidden_estimulos1 = W1 @ X.T + X01\n",
        "hidden_salidas1 = func_eval_vec(hidden_FUNC1, hidden_estimulos1)\n",
        "hidden_estimulos2 = W2 @ hidden_salidas1 + X02\n",
        "hidden_salidas2 = func_eval_vec(hidden_FUNC2, hidden_estimulos2)\n",
        "output_estimulos = W3 @ hidden_salidas2 + X03\n",
        "output_salidas = func_eval_vec(output_FUNC, output_estimulos)\n",
        "\n",
        "# calculo el error promedi general de TODOS los X\n",
        "Error = np.mean((Y.T - output_salidas) ** 2)\n",
        "print(f\"Initial error: {Error}\")"
      ]
    },
    {
      "cell_type": "code",
      "execution_count": 39,
      "metadata": {},
      "outputs": [],
      "source": [
        "# Inicializo\n",
        "epoch_limit = 2000    \n",
        "Error_umbral = 1.0e-06\n",
        "learning_rate = 0.20\n",
        "Error_last = 10   \n",
        "epoch = 0"
      ]
    },
    {
      "cell_type": "code",
      "execution_count": 40,
      "metadata": {},
      "outputs": [
        {
          "name": "stdout",
          "output_type": "stream",
          "text": [
            "Error: 0.04128709928320434\n",
            "Error: 0.040596246197393146\n",
            "Error: 0.03975052358045566\n",
            "Error: 0.03876498159804217\n",
            "Error: 0.037661990236918824\n",
            "Error: 0.03648473431614413\n",
            "Error: 0.03541701082779289\n",
            "Error: 0.03424597902728058\n",
            "Error: 0.03297844503475624\n",
            "Error: 0.03171343281209823\n",
            "Error: 0.029711370593847482\n",
            "Error: 0.027771660013301714\n",
            "Error: 0.02600633879808946\n",
            "Error: 0.024295640625812936\n",
            "Error: 0.022389123711159968\n",
            "Error: 0.0207601366969392\n",
            "Error: 0.01942367042894589\n",
            "Error: 0.018677334035027936\n",
            "Error: 0.017421876320971027\n",
            "Error: 0.016648191917782426\n",
            "Error: 0.015624426671444942\n",
            "Error: 0.013796998850990349\n",
            "Error: 0.012872140783695701\n",
            "Error: 0.012284542568046118\n",
            "Error: 0.01212671656400762\n",
            "Error: 0.011350176177817388\n",
            "Error: 0.010866866158050752\n",
            "Error: 0.0104074627045162\n",
            "Error: 0.009077740912657051\n",
            "Error: 0.009059574484095468\n",
            "Error: 0.008304117586918902\n",
            "Error: 0.008325294175512608\n",
            "Error: 0.008302019578384931\n",
            "Error: 0.007936399033898691\n",
            "Error: 0.007660651971488675\n",
            "Error: 0.007079816467145766\n",
            "Error: 0.0067157742784593605\n",
            "Error: 0.006189554224906234\n",
            "Error: 0.006011034351031449\n",
            "Error: 0.005759528453316442\n",
            "Error: 0.005381533566454475\n",
            "Error: 0.005197774551707834\n",
            "Error: 0.00505066171762985\n",
            "Error: 0.004909983435878495\n",
            "Error: 0.004727321338772703\n",
            "Error: 0.0046417652289728216\n",
            "Error: 0.004547139216154392\n",
            "Error: 0.004468722036631284\n",
            "Error: 0.004390978151992458\n",
            "Error: 0.004338387650781751\n",
            "Error: 0.0042770301378384605\n",
            "Error: 0.004198664083041657\n",
            "Error: 0.004103535215844495\n",
            "Error: 0.004063582967920522\n",
            "Error: 0.003952879563081546\n",
            "Error: 0.0038676944228386977\n",
            "Error: 0.0038290835684790486\n",
            "Error: 0.0037543069442913155\n",
            "Error: 0.003696943791614821\n",
            "Error: 0.0036542763934439676\n",
            "Error: 0.0036012381925195217\n",
            "Error: 0.0035442057713441022\n",
            "Error: 0.003492942925589803\n",
            "Error: 0.0034644330537682115\n",
            "Error: 0.00344075261693236\n",
            "Error: 0.0034188919133301553\n",
            "Error: 0.0034000422593555802\n",
            "Error: 0.0033818214349457744\n",
            "Error: 0.0033651487214064954\n",
            "Error: 0.0033469280017186724\n",
            "Error: 0.003326860231583588\n",
            "Error: 0.003304811040150768\n",
            "Error: 0.003288692382939859\n",
            "Error: 0.0032672330192225793\n",
            "Error: 0.0032443360410149627\n",
            "Error: 0.0032104785392265823\n",
            "Error: 0.0031535948143891937\n",
            "Error: 0.0031141889199814933\n",
            "Error: 0.003087490969693579\n",
            "Error: 0.003068565211503978\n",
            "Error: 0.0030499850862482566\n",
            "Error: 0.0030272756258011672\n",
            "Error: 0.002991525362193613\n",
            "Error: 0.0030445235086575266\n",
            "Error: 0.002999988556221469\n",
            "Error: 0.015808878384222822\n",
            "Error: 0.014227563236510548\n",
            "Error: 0.01132049642257434\n",
            "Error: 0.011130056495005688\n",
            "Error: 0.010788468465098323\n",
            "Error: 0.007544424492470679\n",
            "Error: 0.00763306039674153\n",
            "Error: 0.006544425678296037\n",
            "Error: 0.006258731014559913\n",
            "Error: 0.00786659158491714\n",
            "Error: 0.005531616235432227\n",
            "Error: 0.00457291159774473\n",
            "Error: 0.003582659846642519\n",
            "Error: 0.0032847452864468163\n",
            "Error: 0.003045958459086762\n",
            "Error: 0.002926649430738569\n",
            "Error: 0.002939632156630723\n",
            "Error: 0.0028253664512236944\n",
            "Error: 0.002796250454389195\n",
            "Error: 0.0027713717075400868\n",
            "Error: 0.0027558941765167136\n",
            "Error: 0.002737637059429414\n",
            "Error: 0.002717279665317027\n",
            "Error: 0.0026980925527967997\n",
            "Error: 0.0026808822903497164\n",
            "Error: 0.0026627910140286835\n",
            "Error: 0.0026477453060303724\n",
            "Error: 0.0026322271677270705\n",
            "Error: 0.002633225186306128\n"
          ]
        }
      ],
      "source": [
        "while (math.fabs(Error_last-Error)>Error_umbral and (epoch < epoch_limit)):\n",
        "    epoch += 1\n",
        "    Error_last = Error\n",
        "\n",
        "    # recorro siempre TODA la entrada\n",
        "    for fila in range(filas_qty): #para cada input x_sub_fila del vector X\n",
        "        # propagar el x hacia adelante\n",
        "        hidden_estimulos1 = W1 @ X[fila : fila + 1, :].T + X01\n",
        "        hidden_salidas1 = func_eval_vec(hidden_FUNC1, hidden_estimulos1)\n",
        "        hidden_estimulos2 = W2 @ hidden_salidas1 + X02\n",
        "        hidden_salidas2 = func_eval_vec(hidden_FUNC2, hidden_estimulos2)\n",
        "        output_estimulos = W3 @ hidden_salidas2 + X03\n",
        "        output_salidas = func_eval_vec(output_FUNC, output_estimulos)\n",
        "\n",
        "        # calculo los errores en la capa hidden y la capa output\n",
        "        ErrorSalida = Y[fila : fila + 1, :].T - output_salidas\n",
        "        output_delta = ErrorSalida * deriv_eval_vec(output_FUNC, output_salidas)\n",
        "        hidden_delta2 = deriv_eval_vec(hidden_FUNC2, hidden_salidas2) * (W3.T @ output_delta)\n",
        "        hidden_delta1 = deriv_eval_vec(hidden_FUNC1, hidden_salidas1) * (W2.T @ hidden_delta2)\n",
        "\n",
        "        # ya tengo los errores que comete cada capa\n",
        "        # corregir matrices de pesos, voy hacia atras\n",
        "        # backpropagation\n",
        "        W1 = W1 + learning_rate * (hidden_delta1 @ X[fila : fila + 1, :])\n",
        "        X01 = X01 + learning_rate * hidden_delta1\n",
        "        W2 = W2 + learning_rate * (hidden_delta2 @ hidden_salidas1.T)\n",
        "        X02 = X02 + learning_rate * hidden_delta2\n",
        "        W3 = W3 + learning_rate * (output_delta @ hidden_salidas2.T)\n",
        "        X03 = X03 + learning_rate * output_delta\n",
        "\n",
        "    # ya recalcule las matrices de pesos\n",
        "    # ahora avanzo la red, feed-forward\n",
        "    hidden_estimulos1 = W1 @ X.T + X01\n",
        "    hidden_salidas1 = func_eval_vec(hidden_FUNC1, hidden_estimulos1)\n",
        "    hidden_estimulos2 = W2 @ hidden_salidas1 + X02\n",
        "    hidden_salidas2 = func_eval_vec(hidden_FUNC2, hidden_estimulos2)\n",
        "    output_estimulos = W3 @ hidden_salidas2 + X03\n",
        "    output_salidas = func_eval_vec(output_FUNC, output_estimulos)\n",
        "\n",
        "    # calculo el error promedio general de TODOS los X\n",
        "    Error= np.mean( (Y.T - output_salidas)**2 )\n",
        "    print(\"Error:\", Error)"
      ]
    },
    {
      "attachments": {},
      "cell_type": "markdown",
      "metadata": {},
      "source": [
        "# Evaluar el Modelo"
      ]
    },
    {
      "cell_type": "code",
      "execution_count": 41,
      "metadata": {},
      "outputs": [],
      "source": [
        "# Seteamos el dataset de prueba\n",
        "X = test_img\n",
        "Y = Y_test_ohe"
      ]
    },
    {
      "cell_type": "code",
      "execution_count": 42,
      "metadata": {},
      "outputs": [
        {
          "name": "stdout",
          "output_type": "stream",
          "text": [
            "     Foto Clase Real Clase Predicha  Predicción Correcta\n",
            "0       1      Jiang        Julieta                False\n",
            "1       2      Jiang          Jiang                 True\n",
            "2       3     Andres          Jiang                False\n",
            "3       4   Geronimo      Marcelo G                False\n",
            "4       5  Sebastian      Sebastian                 True\n",
            "5       6      Jiang          Jiang                 True\n",
            "6       7   Josefina            Mai                False\n",
            "7       8      Jiang          Jiang                 True\n",
            "8       9      Lujan          Lujan                 True\n",
            "9      10  Sebastian      Sebastian                 True\n",
            "10     11  Sebastian      Sebastian                 True\n",
            "11     12     Silvia         Silvia                 True\n",
            "12     13     Elemir         Elemir                 True\n",
            "13     14     Nestor         Nestor                 True\n",
            "14     15    Joaquin        Maribel                False\n",
            "15     16   Fernanda            Edu                False\n",
            "16     17        Mai         Nestor                False\n",
            "17     18    Julieta        Julieta                 True\n",
            "18     19     Hernan         Nestor                False\n",
            "19     20   Fernanda       Fernanda                 True\n",
            "20     21  Sebastian      Sebastian                 True\n",
            "21     22    Julieta        Julieta                 True\n",
            "22     23        Edu            Edu                 True\n",
            "23     24    Julieta        Julieta                 True\n",
            "24     25     Hernan         Hernan                 True\n",
            "25     26      Lujan          Lujan                 True\n",
            "26     27        Mai            Mai                 True\n",
            "27     28      Ramon          Ramon                 True\n",
            "28     29  Rodrigo E      Rodrigo E                 True\n",
            "29     30     Nestor         Nestor                 True\n",
            "30     31    Julieta          Lujan                False\n",
            "31     32     Andres            Mai                False\n",
            "32     33      Jiang          Jiang                 True\n",
            "33     34    Maribel        Maribel                 True\n",
            "34     35        Mai         Nestor                False\n",
            "35     36        Mai         Nestor                False\n",
            "36     37    Maribel        Maribel                 True\n",
            "37     38  Rodrigo E         Marisa                False\n",
            "38     39  Marcelo G      Marcelo G                 True\n",
            "39     40      Lujan          Lujan                 True\n",
            "40     41   Geronimo       Geronimo                 True\n",
            "41     42     Elemir          Ramon                False\n",
            "42     43  Sebastian      Sebastian                 True\n",
            "43     44        Mai        Claudia                False\n",
            "44     45   Geronimo       Geronimo                 True\n",
            "45     46    Maribel        Maribel                 True\n",
            "46     47      Lujan          Lujan                 True\n",
            "47     48   Fernanda         Silvia                False\n",
            "48     49   Geronimo         Marisa                False\n",
            "49     50     Hernan         Nestor                False\n",
            "50     51   Josefina            Edu                False\n",
            "51     52    Claudia        Claudia                 True\n",
            "52     53     Hernan         Hernan                 True\n",
            "53     54  Rodrigo E      Rodrigo E                 True\n",
            "54     55  Sebastian          Jiang                False\n",
            "55     56  Rodrigo E      Rodrigo E                 True\n",
            "56     57     Hernan         Hernan                 True\n",
            "57     58    Claudia        Claudia                 True\n",
            "58     59   Fernanda       Fernanda                 True\n",
            "59     60  Sebastian      Sebastian                 True\n",
            "60     61      Ramon          Ramon                 True\n",
            "61     62    Claudia        Claudia                 True\n",
            "62     63     Andres         Andres                 True\n",
            "63     64        Mai      Marcelo G                False\n",
            "64     65    Joaquin        Joaquin                 True\n",
            "65     66     Elemir         Nestor                False\n",
            "66     67    Claudia        Claudia                 True\n",
            "67     68     Nestor            Mai                False\n",
            "68     69    Joaquin        Joaquin                 True\n",
            "69     70  Rodrigo E      Rodrigo E                 True\n",
            "70     71     Nestor         Nestor                 True\n",
            "71     72    Joaquin        Joaquin                 True\n",
            "72     73   Fernanda        Maribel                False\n",
            "73     74      Lujan          Lujan                 True\n",
            "74     75      Ramon          Ramon                 True\n",
            "75     76     Silvia         Silvia                 True\n",
            "76     77    Joaquin        Joaquin                 True\n",
            "77     78     Nestor         Hernan                False\n",
            "78     79     Andres         Andres                 True\n",
            "79     80    Julieta        Julieta                 True\n",
            "80     81     Elemir      Sebastian                False\n",
            "81     82   Josefina         Andres                False\n",
            "82     83  Marcelo T      Marcelo G                False\n",
            "83     84        Edu            Edu                 True\n",
            "84     85        Edu            Edu                 True\n",
            "85     86    Joaquin        Joaquin                 True\n",
            "86     87      Jiang        Joaquin                False\n",
            "87     88      Oscar          Oscar                 True\n",
            "88     89     Andres         Andres                 True\n",
            "89     90    Julieta            Mai                False\n",
            "90     91    Maribel        Maribel                 True\n",
            "91     92  Marcelo T      Marcelo T                 True\n",
            "92     93      Jiang          Jiang                 True\n",
            "93     94     Silvia         Silvia                 True\n",
            "94     95     Hernan            Mai                False\n",
            "95     96   Fernanda        Julieta                False\n",
            "96     97  Sebastian         Hernan                False\n",
            "97     98  Marcelo T            Mai                False\n",
            "98     99      Ramon          Ramon                 True\n",
            "99    100     Elemir         Nestor                False\n",
            "100   101     Hernan         Elemir                False\n",
            "101   102    Julieta         Andres                False\n",
            "102   103  Marcelo T         Nestor                False\n",
            "103   104    Maribel        Maribel                 True\n",
            "104   105     Andres            Mai                False\n",
            "105   106     Andres         Hernan                False\n",
            "106   107      Jiang        Julieta                False\n",
            "107   108        Mai          Lujan                False\n",
            "108   109  Sebastian         Elemir                False\n",
            "109   110   Josefina        Maribel                False\n",
            "110   111     Hernan         Hernan                 True\n",
            "111   112        Edu         Nestor                False\n",
            "112   113  Rodrigo E      Rodrigo E                 True\n",
            "113   114        Mai            Mai                 True\n",
            "114   115  Sebastian        Julieta                False\n",
            "115   116      Jiang          Jiang                 True\n",
            "116   117     Elemir         Elemir                 True\n",
            "117   118      Oscar          Oscar                 True\n",
            "118   119        Edu            Edu                 True\n",
            "119   120    Claudia          Jiang                False\n",
            "120   121     Andres         Andres                 True\n",
            "121   122     Elemir      Marcelo G                False\n",
            "122   123        Mai       Geronimo                False\n",
            "123   124        Edu            Edu                 True\n",
            "124   125        Mai      Sebastian                False\n",
            "125   126   Josefina            Mai                False\n",
            "126   127   Fernanda       Fernanda                 True\n",
            "127   128        Edu            Edu                 True\n",
            "128   129     Nestor      Marcelo G                False\n",
            "129   130   Fernanda       Josefina                False\n",
            "130   131    Julieta        Julieta                 True\n",
            "131   132  Marcelo T      Marcelo T                 True\n",
            "132   133    Julieta        Julieta                 True\n",
            "133   134      Oscar      Sebastian                False\n",
            "134   135      Ramon          Ramon                 True\n",
            "135   136      Lujan          Lujan                 True\n",
            "136   137  Marcelo G      Marcelo G                 True\n",
            "137   138        Mai        Julieta                False\n",
            "138   139   Fernanda            Mai                False\n",
            "139   140     Nestor         Nestor                 True\n",
            "140   141  Marcelo T         Elemir                False\n",
            "141   142      Oscar          Oscar                 True\n",
            "142   143    Claudia        Claudia                 True\n",
            "143   144     Elemir         Elemir                 True\n",
            "144   145  Marcelo T      Marcelo T                 True\n",
            "145   146    Claudia        Claudia                 True\n",
            "146   147     Elemir         Elemir                 True\n",
            "147   148     Andres         Andres                 True\n",
            "148   149     Elemir         Elemir                 True\n",
            "149   150        Mai            Edu                False\n",
            "150   151      Ramon          Ramon                 True\n",
            "151   152  Sebastian      Sebastian                 True\n",
            "152   153    Maribel        Maribel                 True\n",
            "153   154   Josefina       Josefina                 True\n",
            "154   155     Elemir         Elemir                 True\n",
            "155   156      Lujan          Lujan                 True\n",
            "156   157     Silvia         Silvia                 True\n",
            "157   158      Jiang         Elemir                False\n",
            "158   159     Marisa         Marisa                 True\n",
            "159   160  Marcelo T      Marcelo T                 True\n",
            "160   161  Marcelo T      Marcelo T                 True\n",
            "161   162    Joaquin        Joaquin                 True\n",
            "162   163  Sebastian         Hernan                False\n",
            "163   164      Ramon          Ramon                 True\n",
            "164   165        Edu            Edu                 True\n",
            "165   166        Mai         Nestor                False\n",
            "166   167     Hernan         Nestor                False\n",
            "167   168     Elemir         Nestor                False\n",
            "168   169  Rodrigo E      Rodrigo E                 True\n",
            "169   170     Andres         Andres                 True\n",
            "170   171     Marisa       Fernanda                False\n",
            "171   172      Oscar          Oscar                 True\n",
            "172   173  Sebastian       Geronimo                False\n",
            "173   174    Claudia        Claudia                 True\n",
            "174   175    Julieta        Julieta                 True\n",
            "175   176     Andres         Andres                 True\n",
            "176   177        Edu            Edu                 True\n",
            "177   178    Claudia        Claudia                 True\n",
            "178   179    Joaquin        Joaquin                 True\n",
            "179   180  Rodrigo E      Rodrigo E                 True\n",
            "180   181  Rodrigo E      Rodrigo E                 True\n",
            "181   182    Maribel        Maribel                 True\n",
            "182   183    Julieta        Julieta                 True\n",
            "183   184   Josefina       Josefina                 True\n",
            "184   185    Julieta        Julieta                 True\n",
            "185   186  Sebastian            Mai                False\n",
            "186   187  Marcelo G      Marcelo G                 True\n",
            "187   188      Jiang         Elemir                False\n",
            "188   189     Hernan         Hernan                 True\n",
            "189   190    Joaquin       Josefina                False\n",
            "190   191     Nestor         Nestor                 True\n",
            "191   192   Josefina        Maribel                False\n",
            "192   193     Nestor         Nestor                 True\n",
            "193   194    Claudia            Edu                False\n",
            "194   195      Oscar          Oscar                 True\n",
            "195   196     Andres         Andres                 True\n",
            "196   197    Claudia        Claudia                 True\n",
            "197   198      Oscar          Ramon                False\n",
            "198   199   Fernanda       Fernanda                 True\n",
            "199   200   Josefina         Silvia                False\n",
            "200   201  Rodrigo E      Rodrigo E                 True\n",
            "201   202    Claudia            Edu                False\n",
            "202   203    Julieta       Fernanda                False\n",
            "203   204   Geronimo            Mai                False\n",
            "204   205  Marcelo G         Nestor                False\n",
            "205   206  Marcelo G      Marcelo G                 True\n",
            "206   207      Oscar          Oscar                 True\n",
            "207   208   Josefina         Silvia                False\n",
            "208   209      Jiang      Sebastian                False\n",
            "209   210    Joaquin        Joaquin                 True\n",
            "210   211      Jiang          Jiang                 True\n",
            "211   212   Geronimo          Ramon                False\n",
            "212   213     Silvia         Silvia                 True\n",
            "213   214  Rodrigo E      Rodrigo E                 True\n",
            "214   215   Fernanda         Nestor                False\n",
            "215   216        Mai            Mai                 True\n",
            "216   217     Silvia         Silvia                 True\n",
            "217   218        Edu            Edu                 True\n",
            "218   219     Andres         Andres                 True\n",
            "219   220  Rodrigo E      Rodrigo E                 True\n",
            "220   221   Fernanda       Fernanda                 True\n",
            "221   222        Edu            Edu                 True\n",
            "222   223        Edu            Edu                 True\n",
            "223   224    Maribel        Maribel                 True\n",
            "224   225      Lujan          Lujan                 True\n",
            "225   226  Marcelo T         Marisa                False\n",
            "226   227        Mai            Edu                False\n",
            "227   228      Jiang         Elemir                False\n",
            "228   229   Josefina       Fernanda                False\n",
            "229   230   Geronimo            Mai                False\n",
            "230   231     Andres         Andres                 True\n",
            "231   232        Edu      Marcelo G                False\n",
            "232   233  Marcelo T         Marisa                False\n",
            "233   234      Lujan          Lujan                 True\n",
            "234   235  Rodrigo E      Rodrigo E                 True\n",
            "235   236      Ramon          Ramon                 True\n",
            "236   237   Geronimo         Andres                False\n",
            "237   238     Andres         Andres                 True\n",
            "238   239   Josefina        Joaquin                False\n",
            "239   240      Jiang         Hernan                False\n",
            "240   241  Sebastian      Sebastian                 True\n",
            "241   242    Claudia        Claudia                 True\n",
            "242   243     Andres         Marisa                False\n",
            "243   244      Oscar         Hernan                False\n",
            "244   245  Marcelo G      Marcelo G                 True\n",
            "245   246     Hernan         Hernan                 True\n",
            "246   247      Ramon          Ramon                 True\n",
            "247   248  Marcelo T      Marcelo T                 True\n",
            "248   249  Marcelo G      Marcelo G                 True\n",
            "249   250    Julieta         Silvia                False\n",
            "250   251      Ramon         Nestor                False\n",
            "251   252  Marcelo T      Marcelo T                 True\n",
            "252   253   Fernanda          Ramon                False\n",
            "253   254      Oscar          Oscar                 True\n",
            "254   255   Fernanda        Julieta                False\n",
            "255   256   Fernanda       Fernanda                 True\n",
            "256   257    Joaquin        Joaquin                 True\n",
            "257   258   Geronimo       Geronimo                 True\n",
            "258   259   Josefina          Lujan                False\n",
            "259   260     Silvia         Silvia                 True\n",
            "260   261    Maribel        Maribel                 True\n",
            "261   262     Andres        Julieta                False\n",
            "262   263        Edu          Oscar                False\n",
            "263   264     Nestor         Nestor                 True\n",
            "264   265   Fernanda         Nestor                False\n",
            "265   266     Nestor         Nestor                 True\n",
            "266   267     Marisa         Marisa                 True\n",
            "267   268   Josefina       Josefina                 True\n",
            "268   269     Silvia         Silvia                 True\n",
            "269   270     Marisa         Marisa                 True\n",
            "270   271      Jiang          Jiang                 True\n",
            "271   272        Edu            Edu                 True\n",
            "272   273  Marcelo G       Geronimo                False\n",
            "273   274      Ramon          Ramon                 True\n",
            "274   275  Marcelo G      Marcelo G                 True\n",
            "275   276     Hernan         Hernan                 True\n",
            "276   277      Jiang          Jiang                 True\n",
            "277   278     Marisa         Andres                False\n",
            "278   279      Ramon         Marisa                False\n",
            "279   280  Marcelo T      Marcelo T                 True\n",
            "280   281    Claudia        Claudia                 True\n",
            "281   282     Hernan         Elemir                False\n",
            "282   283  Rodrigo E      Rodrigo E                 True\n",
            "283   284     Andres         Andres                 True\n",
            "284   285   Fernanda       Fernanda                 True\n",
            "285   286      Jiang          Jiang                 True\n",
            "286   287     Hernan         Hernan                 True\n",
            "287   288     Andres         Andres                 True\n",
            "288   289      Oscar          Oscar                 True\n",
            "289   290     Silvia       Josefina                False\n",
            "290   291    Joaquin        Joaquin                 True\n",
            "291   292     Marisa         Marisa                 True\n",
            "292   293      Oscar          Oscar                 True\n",
            "293   294   Geronimo         Nestor                False\n",
            "294   295      Ramon          Ramon                 True\n",
            "295   296    Joaquin        Maribel                False\n",
            "296   297     Hernan         Hernan                 True\n",
            "297   298  Marcelo G      Marcelo G                 True\n",
            "298   299        Edu            Edu                 True\n",
            "299   300      Jiang          Jiang                 True\n",
            "300   301     Hernan          Jiang                False\n",
            "301   302    Joaquin        Maribel                False\n",
            "302   303  Marcelo G      Marcelo G                 True\n",
            "303   304     Hernan            Mai                False\n",
            "304   305      Jiang          Jiang                 True\n",
            "305   306      Jiang          Jiang                 True\n",
            "306   307    Maribel        Maribel                 True\n",
            "307   308     Elemir        Maribel                False\n",
            "308   309    Joaquin        Joaquin                 True\n",
            "309   310  Marcelo G      Marcelo G                 True\n",
            "310   311     Silvia         Silvia                 True\n",
            "311   312        Mai      Sebastian                False\n",
            "312   313      Lujan          Lujan                 True\n",
            "313   314    Joaquin          Lujan                False\n",
            "314   315     Elemir         Elemir                 True\n",
            "315   316      Lujan          Lujan                 True\n",
            "316   317    Maribel        Maribel                 True\n",
            "317   318        Mai        Julieta                False\n",
            "318   319     Andres         Andres                 True\n",
            "319   320        Edu            Edu                 True\n",
            "320   321     Andres         Andres                 True\n",
            "321   322    Claudia        Claudia                 True\n",
            "322   323     Andres         Andres                 True\n",
            "323   324     Hernan         Marisa                False\n",
            "324   325     Marisa         Marisa                 True\n",
            "325   326        Mai       Fernanda                False\n",
            "326   327   Geronimo       Geronimo                 True\n",
            "327   328   Josefina            Mai                False\n",
            "328   329   Fernanda       Fernanda                 True\n",
            "329   330     Nestor         Nestor                 True\n",
            "330   331     Hernan         Hernan                 True\n",
            "331   332      Lujan          Lujan                 True\n",
            "332   333   Josefina      Rodrigo E                False\n",
            "333   334   Fernanda       Fernanda                 True\n",
            "334   335     Elemir         Elemir                 True\n",
            "335   336     Marisa       Fernanda                False\n",
            "336   337   Geronimo      Sebastian                False\n",
            "337   338     Hernan        Julieta                False\n",
            "338   339     Elemir      Marcelo G                False\n",
            "339   340   Geronimo         Nestor                False\n",
            "340   341     Andres         Andres                 True\n",
            "341   342      Ramon          Ramon                 True\n",
            "342   343     Andres         Andres                 True\n",
            "343   344  Marcelo G         Marisa                False\n",
            "344   345  Marcelo T      Marcelo T                 True\n",
            "345   346     Nestor         Elemir                False\n",
            "346   347  Marcelo T      Marcelo T                 True\n",
            "347   348   Geronimo      Sebastian                False\n",
            "348   349   Josefina       Josefina                 True\n",
            "349   350      Jiang          Jiang                 True\n",
            "350   351     Elemir        Claudia                False\n",
            "351   352        Mai        Julieta                False\n",
            "352   353   Josefina       Fernanda                False\n",
            "353   354      Ramon         Marisa                False\n",
            "354   355    Julieta        Julieta                 True\n",
            "355   356      Oscar          Oscar                 True\n",
            "356   357  Marcelo T      Marcelo T                 True\n",
            "357   358   Fernanda          Oscar                False\n",
            "358   359    Maribel            Edu                False\n",
            "359   360    Julieta         Nestor                False\n",
            "360   361     Elemir         Elemir                 True\n",
            "361   362  Sebastian      Sebastian                 True\n",
            "362   363  Marcelo G      Marcelo G                 True\n",
            "363   364   Fernanda       Fernanda                 True\n",
            "364   365      Lujan          Lujan                 True\n",
            "365   366     Andres         Andres                 True\n",
            "366   367     Silvia         Silvia                 True\n",
            "367   368  Sebastian          Lujan                False\n",
            "368   369      Ramon          Ramon                 True\n",
            "369   370  Marcelo T            Mai                False\n",
            "370   371      Oscar        Maribel                False\n",
            "371   372    Claudia        Claudia                 True\n",
            "372   373  Sebastian         Elemir                False\n",
            "373   374      Lujan          Lujan                 True\n",
            "374   375        Mai       Josefina                False\n",
            "375   376     Marisa         Marisa                 True\n",
            "376   377   Geronimo       Geronimo                 True\n",
            "377   378     Marisa       Fernanda                False\n",
            "378   379     Hernan         Elemir                False\n",
            "379   380        Edu            Edu                 True\n",
            "380   381        Edu            Edu                 True\n",
            "381   382    Julieta         Silvia                False\n",
            "382   383    Joaquin        Joaquin                 True\n",
            "383   384     Silvia         Silvia                 True\n",
            "384   385      Ramon          Ramon                 True\n",
            "385   386        Edu            Edu                 True\n",
            "386   387        Edu            Edu                 True\n",
            "387   388    Julieta        Julieta                 True\n",
            "388   389     Marisa       Fernanda                False\n",
            "389   390      Jiang          Jiang                 True\n",
            "390   391    Julieta       Josefina                False\n",
            "391   392      Oscar          Oscar                 True\n",
            "392   393   Fernanda       Fernanda                 True\n",
            "393   394     Elemir         Elemir                 True\n",
            "394   395    Claudia        Claudia                 True\n",
            "395   396      Ramon          Ramon                 True\n",
            "396   397   Fernanda          Ramon                False\n",
            "397   398     Hernan         Hernan                 True\n",
            "398   399    Claudia         Silvia                False\n",
            "399   400    Maribel        Maribel                 True\n",
            "400   401      Oscar        Julieta                False\n",
            "401   402      Oscar          Jiang                False\n",
            "402   403   Josefina         Silvia                False\n",
            "403   404    Maribel        Maribel                 True\n",
            "404   405   Fernanda       Fernanda                 True\n",
            "405   406      Lujan          Lujan                 True\n",
            "406   407   Josefina       Josefina                 True\n",
            "407   408      Lujan          Lujan                 True\n",
            "408   409    Claudia        Julieta                False\n",
            "409   410    Joaquin        Joaquin                 True\n",
            "410   411     Silvia         Silvia                 True\n",
            "411   412   Geronimo       Geronimo                 True\n",
            "412   413   Geronimo         Andres                False\n",
            "413   414   Josefina            Mai                False\n",
            "414   415    Claudia        Claudia                 True\n",
            "415   416      Oscar          Oscar                 True\n",
            "416   417        Edu            Edu                 True\n",
            "417   418     Silvia         Silvia                 True\n",
            "418   419  Marcelo T       Geronimo                False\n",
            "419   420    Maribel        Maribel                 True\n",
            "420   421     Marisa         Marisa                 True\n",
            "421   422  Marcelo G      Marcelo G                 True\n",
            "422   423  Sebastian      Sebastian                 True\n",
            "423   424  Marcelo T      Marcelo T                 True\n",
            "424   425    Claudia         Silvia                False\n",
            "425   426     Nestor         Nestor                 True\n",
            "426   427      Jiang          Jiang                 True\n",
            "427   428   Fernanda         Nestor                False\n",
            "428   429     Hernan        Julieta                False\n",
            "429   430    Maribel         Silvia                False\n",
            "430   431  Marcelo T       Geronimo                False\n",
            "431   432        Mai          Lujan                False\n",
            "432   433        Edu            Edu                 True\n",
            "433   434      Ramon          Ramon                 True\n",
            "434   435  Marcelo T      Marcelo T                 True\n",
            "435   436      Lujan          Lujan                 True\n",
            "436   437  Marcelo T      Sebastian                False\n",
            "437   438   Fernanda        Julieta                False\n",
            "438   439     Marisa       Fernanda                False\n",
            "439   440  Rodrigo E      Rodrigo E                 True\n",
            "440   441    Maribel        Maribel                 True\n",
            "441   442  Sebastian         Elemir                False\n",
            "442   443   Geronimo       Geronimo                 True\n",
            "443   444    Julieta            Mai                False\n",
            "444   445   Geronimo       Geronimo                 True\n",
            "445   446    Claudia        Claudia                 True\n",
            "446   447     Hernan         Andres                False\n",
            "447   448  Rodrigo E      Rodrigo E                 True\n",
            "448   449        Edu          Jiang                False\n",
            "449   450  Sebastian      Sebastian                 True\n",
            "450   451      Jiang          Jiang                 True\n",
            "451   452     Andres         Andres                 True\n",
            "452   453     Marisa       Fernanda                False\n",
            "453   454      Oscar          Oscar                 True\n",
            "454   455     Nestor      Marcelo T                False\n",
            "455   456    Julieta        Julieta                 True\n",
            "456   457     Hernan        Julieta                False\n",
            "457   458     Silvia         Silvia                 True\n",
            "458   459    Maribel        Maribel                 True\n",
            "459   460  Marcelo T        Claudia                False\n",
            "460   461     Elemir         Elemir                 True\n",
            "461   462  Sebastian          Lujan                False\n",
            "462   463      Lujan          Lujan                 True\n",
            "463   464   Geronimo          Lujan                False\n",
            "464   465    Claudia        Claudia                 True\n",
            "465   466        Edu            Edu                 True\n",
            "466   467  Marcelo G       Geronimo                False\n",
            "467   468     Andres          Oscar                False\n",
            "468   469        Edu      Sebastian                False\n",
            "469   470  Sebastian         Elemir                False\n",
            "470   471        Mai         Marisa                False\n",
            "471   472     Hernan        Joaquin                False\n",
            "472   473   Geronimo      Marcelo T                False\n",
            "473   474      Jiang         Elemir                False\n",
            "474   475     Nestor          Oscar                False\n",
            "475   476    Julieta        Julieta                 True\n",
            "476   477  Marcelo G      Marcelo G                 True\n",
            "477   478  Marcelo G      Marcelo G                 True\n",
            "478   479     Hernan         Hernan                 True\n",
            "479   480     Andres          Lujan                False\n",
            "480   481   Fernanda       Fernanda                 True\n",
            "481   482     Marisa      Marcelo G                False\n",
            "482   483        Edu         Elemir                False\n",
            "483   484  Marcelo T         Elemir                False\n",
            "484   485     Marisa      Marcelo T                False\n",
            "485   486     Elemir      Marcelo G                False\n",
            "486   487  Sebastian        Maribel                False\n",
            "487   488   Geronimo       Geronimo                 True\n",
            "488   489     Elemir         Marisa                False\n",
            "489   490     Marisa         Marisa                 True\n",
            "490   491    Julieta        Julieta                 True\n",
            "491   492    Julieta        Julieta                 True\n",
            "492   493    Julieta        Julieta                 True\n",
            "493   494    Maribel            Edu                False\n",
            "494   495    Julieta        Julieta                 True\n",
            "495   496    Maribel         Elemir                False\n",
            "496   497      Jiang          Oscar                False\n",
            "497   498     Silvia       Josefina                False\n",
            "498   499    Claudia        Claudia                 True\n",
            "499   500        Edu            Edu                 True\n",
            "500   501      Jiang      Marcelo G                False\n",
            "501   502  Marcelo G      Marcelo G                 True\n",
            "502   503      Oscar          Jiang                False\n",
            "503   504      Oscar          Oscar                 True\n",
            "504   505  Sebastian            Mai                False\n",
            "505   506      Lujan          Lujan                 True\n",
            "506   507        Mai          Oscar                False\n",
            "507   508    Joaquin       Josefina                False\n",
            "508   509     Marisa          Lujan                False\n",
            "509   510  Sebastian          Jiang                False\n",
            "510   511  Rodrigo E      Rodrigo E                 True\n",
            "511   512     Marisa        Claudia                False\n",
            "512   513        Edu            Edu                 True\n",
            "513   514   Josefina       Josefina                 True\n",
            "514   515      Lujan          Lujan                 True\n",
            "515   516  Marcelo G      Marcelo G                 True\n",
            "516   517  Marcelo T        Claudia                False\n",
            "517   518  Rodrigo E      Rodrigo E                 True\n",
            "518   519     Nestor      Marcelo T                False\n",
            "519   520  Sebastian      Marcelo G                False\n",
            "520   521  Marcelo T      Marcelo T                 True\n",
            "521   522   Fernanda         Marisa                False\n",
            "522   523      Jiang          Jiang                 True\n",
            "523   524   Josefina       Josefina                 True\n",
            "524   525     Nestor         Nestor                 True\n",
            "525   526      Jiang        Joaquin                False\n",
            "526   527     Elemir          Jiang                False\n",
            "527   528     Silvia         Silvia                 True\n",
            "528   529  Marcelo T            Mai                False\n",
            "529   530     Silvia         Silvia                 True\n",
            "530   531   Fernanda         Marisa                False\n",
            "531   532        Edu          Lujan                False\n",
            "532   533    Maribel      Sebastian                False\n",
            "533   534      Ramon          Ramon                 True\n",
            "534   535     Marisa         Marisa                 True\n",
            "535   536        Mai            Mai                 True\n",
            "536   537     Marisa        Julieta                False\n",
            "537   538        Mai            Mai                 True\n",
            "538   539     Hernan         Hernan                 True\n",
            "539   540   Geronimo         Hernan                False\n",
            "540   541  Rodrigo E      Rodrigo E                 True\n",
            "541   542     Nestor         Hernan                False\n",
            "542   543   Josefina            Mai                False\n",
            "543   544     Elemir         Elemir                 True\n",
            "544   545      Lujan          Lujan                 True\n",
            "545   546    Joaquin        Joaquin                 True\n",
            "546   547     Nestor          Ramon                False\n",
            "547   548   Josefina       Josefina                 True\n",
            "548   549     Elemir         Elemir                 True\n",
            "549   550     Nestor          Oscar                False\n",
            "550   551        Mai        Maribel                False\n",
            "551   552     Andres         Andres                 True\n",
            "552   553     Hernan         Hernan                 True\n",
            "553   554     Andres         Andres                 True\n",
            "554   555   Fernanda       Fernanda                 True\n",
            "555   556        Mai       Fernanda                False\n",
            "556   557      Ramon          Ramon                 True\n",
            "557   558  Marcelo T      Marcelo T                 True\n",
            "558   559  Sebastian      Sebastian                 True\n",
            "559   560    Claudia         Nestor                False\n",
            "560   561     Hernan         Hernan                 True\n",
            "561   562  Sebastian      Sebastian                 True\n",
            "562   563     Silvia         Silvia                 True\n",
            "563   564  Sebastian      Sebastian                 True\n",
            "564   565        Mai         Nestor                False\n",
            "565   566    Joaquin        Joaquin                 True\n",
            "566   567  Marcelo T      Marcelo T                 True\n",
            "567   568  Marcelo G      Marcelo G                 True\n",
            "568   569        Mai            Mai                 True\n",
            "569   570        Mai        Julieta                False\n",
            "Cantidad de aciertos:  349 sobre un total de  570 fotos\n",
            "Accuracy:  61.228070175438596\n"
          ]
        }
      ],
      "source": [
        "# Recalculamos las filas de dataset de test\n",
        "filas_qty = len(X)\n",
        "resultados = []\n",
        "\n",
        "# Recorremos todas las fotos del set de testing\n",
        "cantidad_aciertos=0\n",
        "\n",
        "for fila in range(filas_qty): #para cada input x_sub_fila del vector X\n",
        "    # propagar el x hacia adelante\n",
        "    hidden_estimulos1_predict = W1 @ X[fila : fila + 1, :].T + X01\n",
        "    hidden_salidas1_predict = func_eval_vec(hidden_FUNC1, hidden_estimulos1_predict)\n",
        "    hidden_estimulos2_predict = W2 @ hidden_salidas1_predict + X02\n",
        "    hidden_salidas2_predict = func_eval_vec(hidden_FUNC2, hidden_estimulos2_predict)\n",
        "    output_estimulos_predict = W3 @ hidden_salidas2_predict + X03\n",
        "    output_salidas = func_eval_vec(output_FUNC, output_estimulos_predict)\n",
        "    \n",
        "    # calculo los errores en la capa hidden y la capa output\n",
        "    ErrorSalida = Y[fila : fila + 1, :].T - output_salidas\n",
        "   \n",
        "    # Verificar si la predicción es correcta\n",
        "    prediccion_correcta = nombres_unicos[np.argmax(Y[fila:fila+1,:].T)] == nombres_unicos[np.argmax(output_salidas)]\n",
        "    \n",
        "    # Agregar el resultado a la lista\n",
        "    resultados.append({'Foto': fila+1,\n",
        "                       'Clase Real': nombres_unicos[np.argmax(Y[fila:fila+1,:].T)],\n",
        "                       'Clase Predicha': nombres_unicos[np.argmax(output_salidas)],\n",
        "                       'Predicción Correcta': prediccion_correcta})\n",
        "    \n",
        "    if (np.argmax(Y[fila:fila+1,:].T)==np.argmax(output_salidas)):\n",
        "        cantidad_aciertos += 1\n",
        " \n",
        "# Crear la tabla con los resultados\n",
        "tabla_resultados = pd.DataFrame(resultados)\n",
        "pd.set_option('display.max_rows', None)\n",
        "              \n",
        "# Mostrar la tabla\n",
        "print(tabla_resultados)\n",
        "\n",
        "print(\"Cantidad de aciertos: \", cantidad_aciertos, \"sobre un total de \",filas_qty, \"fotos\")\n",
        "print(\"Accuracy: \", (cantidad_aciertos/filas_qty)*100)"
      ]
    }
  ],
  "metadata": {
    "colab": {
      "provenance": []
    },
    "kernelspec": {
      "display_name": "Python 3.11.3 64-bit",
      "language": "python",
      "name": "python3"
    },
    "language_info": {
      "codemirror_mode": {
        "name": "ipython",
        "version": 3
      },
      "file_extension": ".py",
      "mimetype": "text/x-python",
      "name": "python",
      "nbconvert_exporter": "python",
      "pygments_lexer": "ipython3",
      "version": "3.11.2"
    },
    "orig_nbformat": 4,
    "vscode": {
      "interpreter": {
        "hash": "5238573367df39f7286bb46f9ff5f08f63a01a80960060ce41e3c79b190280fa"
      }
    }
  },
  "nbformat": 4,
  "nbformat_minor": 0
}
